{
 "cells": [
  {
   "cell_type": "code",
   "execution_count": 2,
   "id": "c3acd1c0",
   "metadata": {},
   "outputs": [],
   "source": [
    "import pandas as pd\n",
    "import numpy as np"
   ]
  },
  {
   "cell_type": "code",
   "execution_count": 3,
   "id": "863760f7",
   "metadata": {},
   "outputs": [
    {
     "data": {
      "text/plain": [
       "'1.4.3'"
      ]
     },
     "execution_count": 3,
     "metadata": {},
     "output_type": "execute_result"
    }
   ],
   "source": [
    "pd.__version__"
   ]
  },
  {
   "cell_type": "code",
   "execution_count": 4,
   "id": "6125c93a",
   "metadata": {},
   "outputs": [
    {
     "data": {
      "text/plain": [
       "'1.23.2'"
      ]
     },
     "execution_count": 4,
     "metadata": {},
     "output_type": "execute_result"
    }
   ],
   "source": [
    "np.__version__"
   ]
  },
  {
   "cell_type": "markdown",
   "id": "1d4e692b",
   "metadata": {},
   "source": [
    "Data Frame"
   ]
  },
  {
   "cell_type": "code",
   "execution_count": 13,
   "id": "29112e74",
   "metadata": {},
   "outputs": [],
   "source": [
    "name=['Olga','Anfrew','Brain','Telulaj','Nico','Tida']\n",
    "ages=[29,21,45,39,46,38]\n",
    "married=[False,True,True,True,False,True]"
   ]
  },
  {
   "cell_type": "code",
   "execution_count": 14,
   "id": "79847425",
   "metadata": {},
   "outputs": [],
   "source": [
    "seri=pd.Series(name,name=\"name\")"
   ]
  },
  {
   "cell_type": "code",
   "execution_count": 15,
   "id": "d50e6e32",
   "metadata": {},
   "outputs": [],
   "source": [
    "#createing a data frame\n",
    "df=pd.DataFrame({'name':name,'age':ages,'married':married})"
   ]
  },
  {
   "cell_type": "code",
   "execution_count": 17,
   "id": "5c969126",
   "metadata": {},
   "outputs": [
    {
     "data": {
      "text/html": [
       "<div>\n",
       "<style scoped>\n",
       "    .dataframe tbody tr th:only-of-type {\n",
       "        vertical-align: middle;\n",
       "    }\n",
       "\n",
       "    .dataframe tbody tr th {\n",
       "        vertical-align: top;\n",
       "    }\n",
       "\n",
       "    .dataframe thead th {\n",
       "        text-align: right;\n",
       "    }\n",
       "</style>\n",
       "<table border=\"1\" class=\"dataframe\">\n",
       "  <thead>\n",
       "    <tr style=\"text-align: right;\">\n",
       "      <th></th>\n",
       "      <th>name</th>\n",
       "      <th>age</th>\n",
       "      <th>married</th>\n",
       "    </tr>\n",
       "  </thead>\n",
       "  <tbody>\n",
       "    <tr>\n",
       "      <th>0</th>\n",
       "      <td>Olga</td>\n",
       "      <td>29</td>\n",
       "      <td>False</td>\n",
       "    </tr>\n",
       "    <tr>\n",
       "      <th>1</th>\n",
       "      <td>Anfrew</td>\n",
       "      <td>21</td>\n",
       "      <td>True</td>\n",
       "    </tr>\n",
       "    <tr>\n",
       "      <th>2</th>\n",
       "      <td>Brain</td>\n",
       "      <td>45</td>\n",
       "      <td>True</td>\n",
       "    </tr>\n",
       "    <tr>\n",
       "      <th>3</th>\n",
       "      <td>Telulaj</td>\n",
       "      <td>39</td>\n",
       "      <td>True</td>\n",
       "    </tr>\n",
       "    <tr>\n",
       "      <th>4</th>\n",
       "      <td>Nico</td>\n",
       "      <td>46</td>\n",
       "      <td>False</td>\n",
       "    </tr>\n",
       "    <tr>\n",
       "      <th>5</th>\n",
       "      <td>Tida</td>\n",
       "      <td>38</td>\n",
       "      <td>True</td>\n",
       "    </tr>\n",
       "  </tbody>\n",
       "</table>\n",
       "</div>"
      ],
      "text/plain": [
       "      name  age  married\n",
       "0     Olga   29    False\n",
       "1   Anfrew   21     True\n",
       "2    Brain   45     True\n",
       "3  Telulaj   39     True\n",
       "4     Nico   46    False\n",
       "5     Tida   38     True"
      ]
     },
     "execution_count": 17,
     "metadata": {},
     "output_type": "execute_result"
    }
   ],
   "source": [
    "df"
   ]
  },
  {
   "cell_type": "markdown",
   "id": "1b8029a4",
   "metadata": {},
   "source": [
    "#### Note: Data frame have two dimentions: labelled indices and columns"
   ]
  },
  {
   "cell_type": "code",
   "execution_count": 20,
   "id": "6703d119",
   "metadata": {},
   "outputs": [
    {
     "data": {
      "text/plain": [
       "0       Olga\n",
       "1     Anfrew\n",
       "2      Brain\n",
       "3    Telulaj\n",
       "4       Nico\n",
       "5       Tida\n",
       "Name: name, dtype: object"
      ]
     },
     "execution_count": 20,
     "metadata": {},
     "output_type": "execute_result"
    }
   ],
   "source": [
    "# in series to access Brain\n",
    "seri"
   ]
  },
  {
   "cell_type": "code",
   "execution_count": 22,
   "id": "150fa6a3",
   "metadata": {},
   "outputs": [
    {
     "data": {
      "text/plain": [
       "'Brain'"
      ]
     },
     "execution_count": 22,
     "metadata": {},
     "output_type": "execute_result"
    }
   ],
   "source": [
    "seri.iloc[2]"
   ]
  },
  {
   "cell_type": "code",
   "execution_count": 23,
   "id": "8611543b",
   "metadata": {},
   "outputs": [
    {
     "data": {
      "text/plain": [
       "'Brain'"
      ]
     },
     "execution_count": 23,
     "metadata": {},
     "output_type": "execute_result"
    }
   ],
   "source": [
    "#To access same value from dataframe \n",
    "df.iloc[2,0]"
   ]
  },
  {
   "cell_type": "code",
   "execution_count": 24,
   "id": "eaf9dde3",
   "metadata": {},
   "outputs": [
    {
     "data": {
      "text/plain": [
       "1"
      ]
     },
     "execution_count": 24,
     "metadata": {},
     "output_type": "execute_result"
    }
   ],
   "source": [
    "#Lets check number of dimentions and see the difference\n",
    "seri.ndim"
   ]
  },
  {
   "cell_type": "code",
   "execution_count": 25,
   "id": "089fd415",
   "metadata": {},
   "outputs": [
    {
     "data": {
      "text/plain": [
       "2"
      ]
     },
     "execution_count": 25,
     "metadata": {},
     "output_type": "execute_result"
    }
   ],
   "source": [
    "df.ndim"
   ]
  },
  {
   "cell_type": "code",
   "execution_count": 26,
   "id": "b399bb09",
   "metadata": {},
   "outputs": [
    {
     "data": {
      "text/plain": [
       "(6,)"
      ]
     },
     "execution_count": 26,
     "metadata": {},
     "output_type": "execute_result"
    }
   ],
   "source": [
    "# .shape\n",
    "seri.shape"
   ]
  },
  {
   "cell_type": "code",
   "execution_count": 27,
   "id": "584ab686",
   "metadata": {},
   "outputs": [
    {
     "data": {
      "text/plain": [
       "(6, 3)"
      ]
     },
     "execution_count": 27,
     "metadata": {},
     "output_type": "execute_result"
    }
   ],
   "source": [
    "df.shape"
   ]
  },
  {
   "cell_type": "markdown",
   "id": "2719c9d4",
   "metadata": {},
   "source": [
    "#### Note: Each column in dataframe is series."
   ]
  },
  {
   "cell_type": "code",
   "execution_count": 28,
   "id": "283ed86a",
   "metadata": {},
   "outputs": [
    {
     "data": {
      "text/plain": [
       "0       Olga\n",
       "1     Anfrew\n",
       "2      Brain\n",
       "3    Telulaj\n",
       "4       Nico\n",
       "5       Tida\n",
       "Name: name, dtype: object"
      ]
     },
     "execution_count": 28,
     "metadata": {},
     "output_type": "execute_result"
    }
   ],
   "source": [
    "# dataframe is collection of python series,we can slice dataframe to get series\n",
    "df.name"
   ]
  },
  {
   "cell_type": "code",
   "execution_count": 33,
   "id": "5767b73a",
   "metadata": {},
   "outputs": [
    {
     "data": {
      "text/plain": [
       "'Telulaj'"
      ]
     },
     "execution_count": 33,
     "metadata": {},
     "output_type": "execute_result"
    }
   ],
   "source": [
    "df.name.iloc[3]"
   ]
  },
  {
   "cell_type": "code",
   "execution_count": 35,
   "id": "5277b375",
   "metadata": {},
   "outputs": [
    {
     "data": {
      "text/plain": [
       "pandas.core.series.Series"
      ]
     },
     "execution_count": 35,
     "metadata": {},
     "output_type": "execute_result"
    }
   ],
   "source": [
    "type(df.name)"
   ]
  },
  {
   "cell_type": "markdown",
   "id": "6a07da78",
   "metadata": {},
   "source": [
    "#### Unlike series dataframe could be heterogenous"
   ]
  },
  {
   "cell_type": "code",
   "execution_count": 37,
   "id": "f66c26ff",
   "metadata": {},
   "outputs": [
    {
     "data": {
      "text/plain": [
       "name       object\n",
       "age         int64\n",
       "married      bool\n",
       "dtype: object"
      ]
     },
     "execution_count": 37,
     "metadata": {},
     "output_type": "execute_result"
    }
   ],
   "source": [
    "# Chech datatype of all columns in the dataframe\n",
    "df.dtypes"
   ]
  },
  {
   "cell_type": "markdown",
   "id": "3554a509",
   "metadata": {},
   "source": [
    "### Four different ways to create dataframe\n",
    "* with dict of touples\n",
    "* with dict of dict\n",
    "* dict of series\n",
    "* with list of dict"
   ]
  },
  {
   "cell_type": "code",
   "execution_count": null,
   "id": "dd99ba2f",
   "metadata": {},
   "outputs": [],
   "source": [
    "#Method 1"
   ]
  },
  {
   "cell_type": "code",
   "execution_count": 46,
   "id": "e51a2379",
   "metadata": {},
   "outputs": [],
   "source": [
    "tuple_name=tuple(name) \n",
    "tuple_age=tuple(ages)\n",
    "tuple_married=tuple(married)"
   ]
  },
  {
   "cell_type": "code",
   "execution_count": 43,
   "id": "66fac7e1",
   "metadata": {},
   "outputs": [
    {
     "data": {
      "text/plain": [
       "('Olga', 'Anfrew', 'Brain', 'Telulaj', 'Nico', 'Tida')"
      ]
     },
     "execution_count": 43,
     "metadata": {},
     "output_type": "execute_result"
    }
   ],
   "source": [
    "tuple_name"
   ]
  },
  {
   "cell_type": "code",
   "execution_count": null,
   "id": "3cb847e7",
   "metadata": {},
   "outputs": [],
   "source": []
  }
 ],
 "metadata": {
  "kernelspec": {
   "display_name": "Python 3 (ipykernel)",
   "language": "python",
   "name": "python3"
  },
  "language_info": {
   "codemirror_mode": {
    "name": "ipython",
    "version": 3
   },
   "file_extension": ".py",
   "mimetype": "text/x-python",
   "name": "python",
   "nbconvert_exporter": "python",
   "pygments_lexer": "ipython3",
   "version": "3.8.10"
  }
 },
 "nbformat": 4,
 "nbformat_minor": 5
}
