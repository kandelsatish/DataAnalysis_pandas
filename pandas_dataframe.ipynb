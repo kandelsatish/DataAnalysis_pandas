{
 "cells": [
  {
   "cell_type": "code",
   "execution_count": 1,
   "id": "c3acd1c0",
   "metadata": {},
   "outputs": [],
   "source": [
    "import pandas as pd\n",
    "import numpy as np"
   ]
  },
  {
   "cell_type": "code",
   "execution_count": 2,
   "id": "863760f7",
   "metadata": {},
   "outputs": [
    {
     "data": {
      "text/plain": [
       "'1.4.3'"
      ]
     },
     "execution_count": 2,
     "metadata": {},
     "output_type": "execute_result"
    }
   ],
   "source": [
    "pd.__version__"
   ]
  },
  {
   "cell_type": "code",
   "execution_count": 3,
   "id": "6125c93a",
   "metadata": {},
   "outputs": [
    {
     "data": {
      "text/plain": [
       "'1.23.2'"
      ]
     },
     "execution_count": 3,
     "metadata": {},
     "output_type": "execute_result"
    }
   ],
   "source": [
    "np.__version__"
   ]
  },
  {
   "cell_type": "markdown",
   "id": "1d4e692b",
   "metadata": {},
   "source": [
    "Data Frame"
   ]
  },
  {
   "cell_type": "code",
   "execution_count": 4,
   "id": "29112e74",
   "metadata": {},
   "outputs": [],
   "source": [
    "name=['Olga','Anfrew','Brain','Telulaj','Nico','Tida']\n",
    "ages=[29,21,45,39,46,38]\n",
    "married=[False,True,True,True,False,True]"
   ]
  },
  {
   "cell_type": "code",
   "execution_count": 5,
   "id": "79847425",
   "metadata": {},
   "outputs": [],
   "source": [
    "seri=pd.Series(name,name=\"name\")"
   ]
  },
  {
   "cell_type": "code",
   "execution_count": 6,
   "id": "d50e6e32",
   "metadata": {},
   "outputs": [],
   "source": [
    "#createing a data frame\n",
    "df=pd.DataFrame({'name':name,'age':ages,'married':married})"
   ]
  },
  {
   "cell_type": "code",
   "execution_count": 7,
   "id": "5c969126",
   "metadata": {},
   "outputs": [
    {
     "data": {
      "text/html": [
       "<div>\n",
       "<style scoped>\n",
       "    .dataframe tbody tr th:only-of-type {\n",
       "        vertical-align: middle;\n",
       "    }\n",
       "\n",
       "    .dataframe tbody tr th {\n",
       "        vertical-align: top;\n",
       "    }\n",
       "\n",
       "    .dataframe thead th {\n",
       "        text-align: right;\n",
       "    }\n",
       "</style>\n",
       "<table border=\"1\" class=\"dataframe\">\n",
       "  <thead>\n",
       "    <tr style=\"text-align: right;\">\n",
       "      <th></th>\n",
       "      <th>name</th>\n",
       "      <th>age</th>\n",
       "      <th>married</th>\n",
       "    </tr>\n",
       "  </thead>\n",
       "  <tbody>\n",
       "    <tr>\n",
       "      <th>0</th>\n",
       "      <td>Olga</td>\n",
       "      <td>29</td>\n",
       "      <td>False</td>\n",
       "    </tr>\n",
       "    <tr>\n",
       "      <th>1</th>\n",
       "      <td>Anfrew</td>\n",
       "      <td>21</td>\n",
       "      <td>True</td>\n",
       "    </tr>\n",
       "    <tr>\n",
       "      <th>2</th>\n",
       "      <td>Brain</td>\n",
       "      <td>45</td>\n",
       "      <td>True</td>\n",
       "    </tr>\n",
       "    <tr>\n",
       "      <th>3</th>\n",
       "      <td>Telulaj</td>\n",
       "      <td>39</td>\n",
       "      <td>True</td>\n",
       "    </tr>\n",
       "    <tr>\n",
       "      <th>4</th>\n",
       "      <td>Nico</td>\n",
       "      <td>46</td>\n",
       "      <td>False</td>\n",
       "    </tr>\n",
       "    <tr>\n",
       "      <th>5</th>\n",
       "      <td>Tida</td>\n",
       "      <td>38</td>\n",
       "      <td>True</td>\n",
       "    </tr>\n",
       "  </tbody>\n",
       "</table>\n",
       "</div>"
      ],
      "text/plain": [
       "      name  age  married\n",
       "0     Olga   29    False\n",
       "1   Anfrew   21     True\n",
       "2    Brain   45     True\n",
       "3  Telulaj   39     True\n",
       "4     Nico   46    False\n",
       "5     Tida   38     True"
      ]
     },
     "execution_count": 7,
     "metadata": {},
     "output_type": "execute_result"
    }
   ],
   "source": [
    "df"
   ]
  },
  {
   "cell_type": "markdown",
   "id": "1b8029a4",
   "metadata": {},
   "source": [
    "#### Note: Data frame have two dimentions: labelled indices and columns"
   ]
  },
  {
   "cell_type": "code",
   "execution_count": 8,
   "id": "6703d119",
   "metadata": {},
   "outputs": [
    {
     "data": {
      "text/plain": [
       "0       Olga\n",
       "1     Anfrew\n",
       "2      Brain\n",
       "3    Telulaj\n",
       "4       Nico\n",
       "5       Tida\n",
       "Name: name, dtype: object"
      ]
     },
     "execution_count": 8,
     "metadata": {},
     "output_type": "execute_result"
    }
   ],
   "source": [
    "# in series to access Brain\n",
    "seri"
   ]
  },
  {
   "cell_type": "code",
   "execution_count": 9,
   "id": "150fa6a3",
   "metadata": {},
   "outputs": [
    {
     "data": {
      "text/plain": [
       "'Brain'"
      ]
     },
     "execution_count": 9,
     "metadata": {},
     "output_type": "execute_result"
    }
   ],
   "source": [
    "seri.iloc[2]"
   ]
  },
  {
   "cell_type": "code",
   "execution_count": 10,
   "id": "8611543b",
   "metadata": {},
   "outputs": [
    {
     "data": {
      "text/plain": [
       "'Brain'"
      ]
     },
     "execution_count": 10,
     "metadata": {},
     "output_type": "execute_result"
    }
   ],
   "source": [
    "#To access same value from dataframe \n",
    "df.iloc[2,0]"
   ]
  },
  {
   "cell_type": "code",
   "execution_count": 11,
   "id": "eaf9dde3",
   "metadata": {},
   "outputs": [
    {
     "data": {
      "text/plain": [
       "1"
      ]
     },
     "execution_count": 11,
     "metadata": {},
     "output_type": "execute_result"
    }
   ],
   "source": [
    "#Lets check number of dimentions and see the difference\n",
    "seri.ndim"
   ]
  },
  {
   "cell_type": "code",
   "execution_count": 12,
   "id": "089fd415",
   "metadata": {},
   "outputs": [
    {
     "data": {
      "text/plain": [
       "2"
      ]
     },
     "execution_count": 12,
     "metadata": {},
     "output_type": "execute_result"
    }
   ],
   "source": [
    "df.ndim"
   ]
  },
  {
   "cell_type": "code",
   "execution_count": 13,
   "id": "b399bb09",
   "metadata": {},
   "outputs": [
    {
     "data": {
      "text/plain": [
       "(6,)"
      ]
     },
     "execution_count": 13,
     "metadata": {},
     "output_type": "execute_result"
    }
   ],
   "source": [
    "# .shape\n",
    "seri.shape"
   ]
  },
  {
   "cell_type": "code",
   "execution_count": 14,
   "id": "584ab686",
   "metadata": {},
   "outputs": [
    {
     "data": {
      "text/plain": [
       "(6, 3)"
      ]
     },
     "execution_count": 14,
     "metadata": {},
     "output_type": "execute_result"
    }
   ],
   "source": [
    "df.shape"
   ]
  },
  {
   "cell_type": "markdown",
   "id": "2719c9d4",
   "metadata": {},
   "source": [
    "#### Note: Each column in dataframe is series."
   ]
  },
  {
   "cell_type": "code",
   "execution_count": 15,
   "id": "283ed86a",
   "metadata": {},
   "outputs": [
    {
     "data": {
      "text/plain": [
       "0       Olga\n",
       "1     Anfrew\n",
       "2      Brain\n",
       "3    Telulaj\n",
       "4       Nico\n",
       "5       Tida\n",
       "Name: name, dtype: object"
      ]
     },
     "execution_count": 15,
     "metadata": {},
     "output_type": "execute_result"
    }
   ],
   "source": [
    "# dataframe is collection of python series,we can slice dataframe to get series\n",
    "df.name"
   ]
  },
  {
   "cell_type": "code",
   "execution_count": 16,
   "id": "5767b73a",
   "metadata": {},
   "outputs": [
    {
     "data": {
      "text/plain": [
       "'Telulaj'"
      ]
     },
     "execution_count": 16,
     "metadata": {},
     "output_type": "execute_result"
    }
   ],
   "source": [
    "df.name.iloc[3]"
   ]
  },
  {
   "cell_type": "code",
   "execution_count": 17,
   "id": "5277b375",
   "metadata": {},
   "outputs": [
    {
     "data": {
      "text/plain": [
       "pandas.core.series.Series"
      ]
     },
     "execution_count": 17,
     "metadata": {},
     "output_type": "execute_result"
    }
   ],
   "source": [
    "type(df.name)"
   ]
  },
  {
   "cell_type": "markdown",
   "id": "6a07da78",
   "metadata": {},
   "source": [
    "#### Unlike series dataframe could be heterogenous"
   ]
  },
  {
   "cell_type": "code",
   "execution_count": 18,
   "id": "f66c26ff",
   "metadata": {},
   "outputs": [
    {
     "data": {
      "text/plain": [
       "name       object\n",
       "age         int64\n",
       "married      bool\n",
       "dtype: object"
      ]
     },
     "execution_count": 18,
     "metadata": {},
     "output_type": "execute_result"
    }
   ],
   "source": [
    "# Chech datatype of all columns in the dataframe\n",
    "df.dtypes"
   ]
  },
  {
   "cell_type": "markdown",
   "id": "3554a509",
   "metadata": {},
   "source": [
    "### Four different ways to create dataframe\n",
    "* with dict of touples\n",
    "* with dict of dict\n",
    "* dict of series\n",
    "* with list of dict"
   ]
  },
  {
   "cell_type": "code",
   "execution_count": 19,
   "id": "dd99ba2f",
   "metadata": {},
   "outputs": [],
   "source": [
    "#Method 1"
   ]
  },
  {
   "cell_type": "code",
   "execution_count": 20,
   "id": "e51a2379",
   "metadata": {},
   "outputs": [],
   "source": [
    "tuple_name=tuple(name) \n",
    "tuple_age=tuple(ages)\n",
    "tuple_married=tuple(married)"
   ]
  },
  {
   "cell_type": "code",
   "execution_count": 21,
   "id": "66fac7e1",
   "metadata": {},
   "outputs": [
    {
     "data": {
      "text/plain": [
       "('Olga', 'Anfrew', 'Brain', 'Telulaj', 'Nico', 'Tida')"
      ]
     },
     "execution_count": 21,
     "metadata": {},
     "output_type": "execute_result"
    }
   ],
   "source": [
    "tuple_name"
   ]
  },
  {
   "cell_type": "markdown",
   "id": "3ee38ba7",
   "metadata": {},
   "source": [
    "### Info method\n",
    "This method only workd for pandas"
   ]
  },
  {
   "cell_type": "code",
   "execution_count": 22,
   "id": "46181767",
   "metadata": {},
   "outputs": [
    {
     "data": {
      "text/html": [
       "<div>\n",
       "<style scoped>\n",
       "    .dataframe tbody tr th:only-of-type {\n",
       "        vertical-align: middle;\n",
       "    }\n",
       "\n",
       "    .dataframe tbody tr th {\n",
       "        vertical-align: top;\n",
       "    }\n",
       "\n",
       "    .dataframe thead th {\n",
       "        text-align: right;\n",
       "    }\n",
       "</style>\n",
       "<table border=\"1\" class=\"dataframe\">\n",
       "  <thead>\n",
       "    <tr style=\"text-align: right;\">\n",
       "      <th></th>\n",
       "      <th>name</th>\n",
       "      <th>age</th>\n",
       "      <th>married</th>\n",
       "    </tr>\n",
       "  </thead>\n",
       "  <tbody>\n",
       "    <tr>\n",
       "      <th>0</th>\n",
       "      <td>Olga</td>\n",
       "      <td>29</td>\n",
       "      <td>False</td>\n",
       "    </tr>\n",
       "    <tr>\n",
       "      <th>1</th>\n",
       "      <td>Anfrew</td>\n",
       "      <td>21</td>\n",
       "      <td>True</td>\n",
       "    </tr>\n",
       "    <tr>\n",
       "      <th>2</th>\n",
       "      <td>Brain</td>\n",
       "      <td>45</td>\n",
       "      <td>True</td>\n",
       "    </tr>\n",
       "    <tr>\n",
       "      <th>3</th>\n",
       "      <td>Telulaj</td>\n",
       "      <td>39</td>\n",
       "      <td>True</td>\n",
       "    </tr>\n",
       "    <tr>\n",
       "      <th>4</th>\n",
       "      <td>Nico</td>\n",
       "      <td>46</td>\n",
       "      <td>False</td>\n",
       "    </tr>\n",
       "    <tr>\n",
       "      <th>5</th>\n",
       "      <td>Tida</td>\n",
       "      <td>38</td>\n",
       "      <td>True</td>\n",
       "    </tr>\n",
       "  </tbody>\n",
       "</table>\n",
       "</div>"
      ],
      "text/plain": [
       "      name  age  married\n",
       "0     Olga   29    False\n",
       "1   Anfrew   21     True\n",
       "2    Brain   45     True\n",
       "3  Telulaj   39     True\n",
       "4     Nico   46    False\n",
       "5     Tida   38     True"
      ]
     },
     "execution_count": 22,
     "metadata": {},
     "output_type": "execute_result"
    }
   ],
   "source": [
    "df"
   ]
  },
  {
   "cell_type": "code",
   "execution_count": 23,
   "id": "8946cec5",
   "metadata": {},
   "outputs": [
    {
     "name": "stdout",
     "output_type": "stream",
     "text": [
      "<class 'pandas.core.frame.DataFrame'>\n",
      "RangeIndex: 6 entries, 0 to 5\n",
      "Data columns (total 3 columns):\n",
      " #   Column   Non-Null Count  Dtype \n",
      "---  ------   --------------  ----- \n",
      " 0   name     6 non-null      object\n",
      " 1   age      6 non-null      int64 \n",
      " 2   married  6 non-null      bool  \n",
      "dtypes: bool(1), int64(1), object(1)\n",
      "memory usage: 230.0+ bytes\n"
     ]
    }
   ],
   "source": [
    "df.info()"
   ]
  },
  {
   "cell_type": "code",
   "execution_count": 25,
   "id": "73ad9e98",
   "metadata": {},
   "outputs": [
    {
     "name": "stdout",
     "output_type": "stream",
     "text": [
      "<class 'pandas.core.frame.DataFrame'>\n",
      "RangeIndex: 6 entries, 0 to 5\n",
      "Columns: 3 entries, name to married\n",
      "dtypes: bool(1), int64(1), object(1)\n",
      "memory usage: 230.0+ bytes\n"
     ]
    }
   ],
   "source": [
    "#if you do not want information about the column \n",
    "df.info(verbose=False)"
   ]
  },
  {
   "cell_type": "code",
   "execution_count": 32,
   "id": "48e5559e",
   "metadata": {},
   "outputs": [
    {
     "name": "stdout",
     "output_type": "stream",
     "text": [
      "<class 'pandas.core.frame.DataFrame'>\n",
      "RangeIndex: 6 entries, 0 to 5\n",
      "Data columns (total 3 columns):\n",
      " #   Column   Non-Null Count  Dtype \n",
      "---  ------   --------------  ----- \n",
      " 0   name     6 non-null      object\n",
      " 1   age      6 non-null      int64 \n",
      " 2   married  6 non-null      bool  \n",
      "dtypes: bool(1), int64(1), object(1)\n",
      "memory usage: 230.0+ bytes\n"
     ]
    }
   ],
   "source": [
    "df.info(max_cols=3 "
   ]
  },
  {
   "cell_type": "code",
   "execution_count": 33,
   "id": "687cd6b1",
   "metadata": {},
   "outputs": [
    {
     "name": "stdout",
     "output_type": "stream",
     "text": [
      "<class 'pandas.core.frame.DataFrame'>\n",
      "RangeIndex: 6 entries, 0 to 5\n",
      "Data columns (total 3 columns):\n",
      " #   Column   Non-Null Count  Dtype \n",
      "---  ------   --------------  ----- \n",
      " 0   name     6 non-null      object\n",
      " 1   age      6 non-null      int64 \n",
      " 2   married  6 non-null      bool  \n",
      "dtypes: bool(1), int64(1), object(1)"
     ]
    }
   ],
   "source": [
    "df.info(memory_usage=False)"
   ]
  },
  {
   "cell_type": "code",
   "execution_count": 34,
   "id": "188bcd9e",
   "metadata": {},
   "outputs": [
    {
     "name": "stdout",
     "output_type": "stream",
     "text": [
      "<class 'pandas.core.frame.DataFrame'>\n",
      "RangeIndex: 6 entries, 0 to 5\n",
      "Data columns (total 3 columns):\n",
      " #   Column   Non-Null Count  Dtype \n",
      "---  ------   --------------  ----- \n",
      " 0   name     6 non-null      object\n",
      " 1   age      6 non-null      int64 \n",
      " 2   married  6 non-null      bool  \n",
      "dtypes: bool(1), int64(1), object(1)\n",
      "memory usage: 230.0+ bytes\n"
     ]
    }
   ],
   "source": [
    "df.info(memory_usage=True)"
   ]
  },
  {
   "cell_type": "code",
   "execution_count": 35,
   "id": "a690347b",
   "metadata": {},
   "outputs": [
    {
     "name": "stdout",
     "output_type": "stream",
     "text": [
      "<class 'pandas.core.frame.DataFrame'>\n",
      "RangeIndex: 6 entries, 0 to 5\n",
      "Data columns (total 3 columns):\n",
      " #   Column   Non-Null Count  Dtype \n",
      "---  ------   --------------  ----- \n",
      " 0   name     6 non-null      object\n",
      " 1   age      6 non-null      int64 \n",
      " 2   married  6 non-null      bool  \n",
      "dtypes: bool(1), int64(1), object(1)\n",
      "memory usage: 554.0 bytes\n"
     ]
    }
   ],
   "source": [
    "#More precise memory usage\n",
    "df.info(memory_usage=\"deep\")"
   ]
  },
  {
   "cell_type": "markdown",
   "id": "684af9fd",
   "metadata": {},
   "source": [
    "### Reading in Nutrition Data"
   ]
  },
  {
   "cell_type": "code",
   "execution_count": 37,
   "id": "b6ef6cad",
   "metadata": {},
   "outputs": [],
   "source": [
    " nutrition=pd.read_csv(\"./nutrition.csv\")"
   ]
  },
  {
   "cell_type": "code",
   "execution_count": 39,
   "id": "a8176ea4",
   "metadata": {},
   "outputs": [
    {
     "data": {
      "text/html": [
       "<div>\n",
       "<style scoped>\n",
       "    .dataframe tbody tr th:only-of-type {\n",
       "        vertical-align: middle;\n",
       "    }\n",
       "\n",
       "    .dataframe tbody tr th {\n",
       "        vertical-align: top;\n",
       "    }\n",
       "\n",
       "    .dataframe thead th {\n",
       "        text-align: right;\n",
       "    }\n",
       "</style>\n",
       "<table border=\"1\" class=\"dataframe\">\n",
       "  <thead>\n",
       "    <tr style=\"text-align: right;\">\n",
       "      <th></th>\n",
       "      <th>Unnamed: 0</th>\n",
       "      <th>name</th>\n",
       "      <th>serving_size</th>\n",
       "      <th>calories</th>\n",
       "      <th>total_fat</th>\n",
       "      <th>saturated_fat</th>\n",
       "      <th>cholesterol</th>\n",
       "      <th>sodium</th>\n",
       "      <th>choline</th>\n",
       "      <th>folate</th>\n",
       "      <th>...</th>\n",
       "      <th>fat</th>\n",
       "      <th>saturated_fatty_acids</th>\n",
       "      <th>monounsaturated_fatty_acids</th>\n",
       "      <th>polyunsaturated_fatty_acids</th>\n",
       "      <th>fatty_acids_total_trans</th>\n",
       "      <th>alcohol</th>\n",
       "      <th>ash</th>\n",
       "      <th>caffeine</th>\n",
       "      <th>theobromine</th>\n",
       "      <th>water</th>\n",
       "    </tr>\n",
       "  </thead>\n",
       "  <tbody>\n",
       "    <tr>\n",
       "      <th>0</th>\n",
       "      <td>0</td>\n",
       "      <td>Cornstarch</td>\n",
       "      <td>100 g</td>\n",
       "      <td>381</td>\n",
       "      <td>0.1g</td>\n",
       "      <td>NaN</td>\n",
       "      <td>0</td>\n",
       "      <td>9.00 mg</td>\n",
       "      <td>0.4 mg</td>\n",
       "      <td>0.00 mcg</td>\n",
       "      <td>...</td>\n",
       "      <td>0.05 g</td>\n",
       "      <td>0.009 g</td>\n",
       "      <td>0.016 g</td>\n",
       "      <td>0.025 g</td>\n",
       "      <td>0.00 mg</td>\n",
       "      <td>0.0 g</td>\n",
       "      <td>0.09 g</td>\n",
       "      <td>0.00 mg</td>\n",
       "      <td>0.00 mg</td>\n",
       "      <td>8.32 g</td>\n",
       "    </tr>\n",
       "    <tr>\n",
       "      <th>1</th>\n",
       "      <td>1</td>\n",
       "      <td>Nuts, pecans</td>\n",
       "      <td>100 g</td>\n",
       "      <td>691</td>\n",
       "      <td>72g</td>\n",
       "      <td>6.2g</td>\n",
       "      <td>0</td>\n",
       "      <td>0.00 mg</td>\n",
       "      <td>40.5 mg</td>\n",
       "      <td>22.00 mcg</td>\n",
       "      <td>...</td>\n",
       "      <td>71.97 g</td>\n",
       "      <td>6.180 g</td>\n",
       "      <td>40.801 g</td>\n",
       "      <td>21.614 g</td>\n",
       "      <td>0.00 mg</td>\n",
       "      <td>0.0 g</td>\n",
       "      <td>1.49 g</td>\n",
       "      <td>0.00 mg</td>\n",
       "      <td>0.00 mg</td>\n",
       "      <td>3.52 g</td>\n",
       "    </tr>\n",
       "    <tr>\n",
       "      <th>2</th>\n",
       "      <td>2</td>\n",
       "      <td>Eggplant, raw</td>\n",
       "      <td>100 g</td>\n",
       "      <td>25</td>\n",
       "      <td>0.2g</td>\n",
       "      <td>NaN</td>\n",
       "      <td>0</td>\n",
       "      <td>2.00 mg</td>\n",
       "      <td>6.9 mg</td>\n",
       "      <td>22.00 mcg</td>\n",
       "      <td>...</td>\n",
       "      <td>0.18 g</td>\n",
       "      <td>0.034 g</td>\n",
       "      <td>0.016 g</td>\n",
       "      <td>0.076 g</td>\n",
       "      <td>0.00 mg</td>\n",
       "      <td>0.0 g</td>\n",
       "      <td>0.66 g</td>\n",
       "      <td>0.00 mg</td>\n",
       "      <td>0.00 mg</td>\n",
       "      <td>92.30 g</td>\n",
       "    </tr>\n",
       "    <tr>\n",
       "      <th>3</th>\n",
       "      <td>3</td>\n",
       "      <td>Teff, uncooked</td>\n",
       "      <td>100 g</td>\n",
       "      <td>367</td>\n",
       "      <td>2.4g</td>\n",
       "      <td>0.4g</td>\n",
       "      <td>0</td>\n",
       "      <td>12.00 mg</td>\n",
       "      <td>13.1 mg</td>\n",
       "      <td>0</td>\n",
       "      <td>...</td>\n",
       "      <td>2.38 g</td>\n",
       "      <td>0.449 g</td>\n",
       "      <td>0.589 g</td>\n",
       "      <td>1.071 g</td>\n",
       "      <td>0</td>\n",
       "      <td>0</td>\n",
       "      <td>2.37 g</td>\n",
       "      <td>0</td>\n",
       "      <td>0</td>\n",
       "      <td>8.82 g</td>\n",
       "    </tr>\n",
       "    <tr>\n",
       "      <th>4</th>\n",
       "      <td>4</td>\n",
       "      <td>Sherbet, orange</td>\n",
       "      <td>100 g</td>\n",
       "      <td>144</td>\n",
       "      <td>2g</td>\n",
       "      <td>1.2g</td>\n",
       "      <td>1mg</td>\n",
       "      <td>46.00 mg</td>\n",
       "      <td>7.7 mg</td>\n",
       "      <td>4.00 mcg</td>\n",
       "      <td>...</td>\n",
       "      <td>2.00 g</td>\n",
       "      <td>1.160 g</td>\n",
       "      <td>0.530 g</td>\n",
       "      <td>0.080 g</td>\n",
       "      <td>1.00 mg</td>\n",
       "      <td>0.0 g</td>\n",
       "      <td>0.40 g</td>\n",
       "      <td>0.00 mg</td>\n",
       "      <td>0.00 mg</td>\n",
       "      <td>66.10 g</td>\n",
       "    </tr>\n",
       "  </tbody>\n",
       "</table>\n",
       "<p>5 rows × 77 columns</p>\n",
       "</div>"
      ],
      "text/plain": [
       "   Unnamed: 0             name serving_size  calories total_fat saturated_fat  \\\n",
       "0           0       Cornstarch        100 g       381      0.1g           NaN   \n",
       "1           1     Nuts, pecans        100 g       691       72g          6.2g   \n",
       "2           2    Eggplant, raw        100 g        25      0.2g           NaN   \n",
       "3           3   Teff, uncooked        100 g       367      2.4g          0.4g   \n",
       "4           4  Sherbet, orange        100 g       144        2g          1.2g   \n",
       "\n",
       "  cholesterol    sodium  choline     folate  ...      fat  \\\n",
       "0           0   9.00 mg   0.4 mg   0.00 mcg  ...   0.05 g   \n",
       "1           0   0.00 mg  40.5 mg  22.00 mcg  ...  71.97 g   \n",
       "2           0   2.00 mg   6.9 mg  22.00 mcg  ...   0.18 g   \n",
       "3           0  12.00 mg  13.1 mg          0  ...   2.38 g   \n",
       "4         1mg  46.00 mg   7.7 mg   4.00 mcg  ...   2.00 g   \n",
       "\n",
       "  saturated_fatty_acids monounsaturated_fatty_acids  \\\n",
       "0               0.009 g                     0.016 g   \n",
       "1               6.180 g                    40.801 g   \n",
       "2               0.034 g                     0.016 g   \n",
       "3               0.449 g                     0.589 g   \n",
       "4               1.160 g                     0.530 g   \n",
       "\n",
       "  polyunsaturated_fatty_acids fatty_acids_total_trans alcohol     ash  \\\n",
       "0                     0.025 g                 0.00 mg   0.0 g  0.09 g   \n",
       "1                    21.614 g                 0.00 mg   0.0 g  1.49 g   \n",
       "2                     0.076 g                 0.00 mg   0.0 g  0.66 g   \n",
       "3                     1.071 g                       0       0  2.37 g   \n",
       "4                     0.080 g                 1.00 mg   0.0 g  0.40 g   \n",
       "\n",
       "  caffeine theobromine    water  \n",
       "0  0.00 mg     0.00 mg   8.32 g  \n",
       "1  0.00 mg     0.00 mg   3.52 g  \n",
       "2  0.00 mg     0.00 mg  92.30 g  \n",
       "3        0           0   8.82 g  \n",
       "4  0.00 mg     0.00 mg  66.10 g  \n",
       "\n",
       "[5 rows x 77 columns]"
      ]
     },
     "execution_count": 39,
     "metadata": {},
     "output_type": "execute_result"
    }
   ],
   "source": [
    "nutrition.head(5)"
   ]
  },
  {
   "cell_type": "code",
   "execution_count": 41,
   "id": "0069add0",
   "metadata": {},
   "outputs": [
    {
     "name": "stdout",
     "output_type": "stream",
     "text": [
      "<class 'pandas.core.frame.DataFrame'>\n",
      "RangeIndex: 8789 entries, 0 to 8788\n",
      "Columns: 77 entries, Unnamed: 0 to water\n",
      "dtypes: int64(3), object(74)\n",
      "memory usage: 5.2+ MB\n"
     ]
    }
   ],
   "source": [
    "#to see information on dataframe\n",
    "nutrition.info(verbose=False)"
   ]
  },
  {
   "cell_type": "code",
   "execution_count": 43,
   "id": "c49f80a8",
   "metadata": {},
   "outputs": [
    {
     "data": {
      "text/plain": [
       "pandas.core.frame.DataFrame"
      ]
     },
     "execution_count": 43,
     "metadata": {},
     "output_type": "execute_result"
    }
   ],
   "source": [
    "type(nutrition)"
   ]
  },
  {
   "cell_type": "code",
   "execution_count": null,
   "id": "5c99cc70",
   "metadata": {},
   "outputs": [],
   "source": []
  }
 ],
 "metadata": {
  "kernelspec": {
   "display_name": "Python 3 (ipykernel)",
   "language": "python",
   "name": "python3"
  },
  "language_info": {
   "codemirror_mode": {
    "name": "ipython",
    "version": 3
   },
   "file_extension": ".py",
   "mimetype": "text/x-python",
   "name": "python",
   "nbconvert_exporter": "python",
   "pygments_lexer": "ipython3",
   "version": "3.8.10"
  }
 },
 "nbformat": 4,
 "nbformat_minor": 5
}
