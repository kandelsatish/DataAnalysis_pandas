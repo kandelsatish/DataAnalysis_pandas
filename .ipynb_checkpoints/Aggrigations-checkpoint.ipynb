{
 "cells": [
  {
   "cell_type": "markdown",
   "id": "d277a2a0",
   "metadata": {},
   "source": [
    " ## Scope\n",
    " * split-apply-combine in detail\n",
    " * groupby() mechanics and lazy evaluation\n",
    " * aggregation funcation\n",
    " * grouping by multiple keys\n",
    " * groupby() +transformation(),filter, and apply()"
   ]
  },
  {
   "cell_type": "code",
   "execution_count": 1,
   "id": "aaaec6b0",
   "metadata": {},
   "outputs": [],
   "source": [
    "import pandas as pd\n",
    "import numpy as np"
   ]
  },
  {
   "cell_type": "code",
   "execution_count": 2,
   "id": "20ce002d",
   "metadata": {},
   "outputs": [
    {
     "data": {
      "text/plain": [
       "'1.4.3'"
      ]
     },
     "execution_count": 2,
     "metadata": {},
     "output_type": "execute_result"
    }
   ],
   "source": [
    "pd.__version__"
   ]
  },
  {
   "cell_type": "code",
   "execution_count": null,
   "id": "d00de0dd",
   "metadata": {},
   "outputs": [],
   "source": [
    "# datasource:'https://andybek.com/pandas-games'  "
   ]
  },
  {
   "cell_type": "code",
   "execution_count": 17,
   "id": "374c418b",
   "metadata": {},
   "outputs": [],
   "source": [
    "game_sales=pd.read_csv('https://andybek.com/pandas-games')"
   ]
  },
  {
   "cell_type": "code",
   "execution_count": 18,
   "id": "a08c8d3e",
   "metadata": {},
   "outputs": [
    {
     "data": {
      "text/html": [
       "<div>\n",
       "<style scoped>\n",
       "    .dataframe tbody tr th:only-of-type {\n",
       "        vertical-align: middle;\n",
       "    }\n",
       "\n",
       "    .dataframe tbody tr th {\n",
       "        vertical-align: top;\n",
       "    }\n",
       "\n",
       "    .dataframe thead th {\n",
       "        text-align: right;\n",
       "    }\n",
       "</style>\n",
       "<table border=\"1\" class=\"dataframe\">\n",
       "  <thead>\n",
       "    <tr style=\"text-align: right;\">\n",
       "      <th></th>\n",
       "      <th>Name</th>\n",
       "      <th>Platform</th>\n",
       "      <th>Year</th>\n",
       "      <th>Genre</th>\n",
       "      <th>Publisher</th>\n",
       "      <th>NA_Sales</th>\n",
       "      <th>EU_Sales</th>\n",
       "      <th>JP_Sales</th>\n",
       "      <th>Other_Sales</th>\n",
       "      <th>Global_Sales</th>\n",
       "    </tr>\n",
       "  </thead>\n",
       "  <tbody>\n",
       "    <tr>\n",
       "      <th>0</th>\n",
       "      <td>Kinect Adventures!</td>\n",
       "      <td>X360</td>\n",
       "      <td>2010.0</td>\n",
       "      <td>Misc</td>\n",
       "      <td>Microsoft Game Studios</td>\n",
       "      <td>14.97</td>\n",
       "      <td>4.94</td>\n",
       "      <td>0.24</td>\n",
       "      <td>1.67</td>\n",
       "      <td>21.82</td>\n",
       "    </tr>\n",
       "    <tr>\n",
       "      <th>1</th>\n",
       "      <td>Grand Theft Auto V</td>\n",
       "      <td>PS3</td>\n",
       "      <td>2013.0</td>\n",
       "      <td>Action</td>\n",
       "      <td>Take-Two Interactive</td>\n",
       "      <td>7.01</td>\n",
       "      <td>9.27</td>\n",
       "      <td>0.97</td>\n",
       "      <td>4.14</td>\n",
       "      <td>21.40</td>\n",
       "    </tr>\n",
       "    <tr>\n",
       "      <th>2</th>\n",
       "      <td>Grand Theft Auto V</td>\n",
       "      <td>X360</td>\n",
       "      <td>2013.0</td>\n",
       "      <td>Action</td>\n",
       "      <td>Take-Two Interactive</td>\n",
       "      <td>9.63</td>\n",
       "      <td>5.31</td>\n",
       "      <td>0.06</td>\n",
       "      <td>1.38</td>\n",
       "      <td>16.38</td>\n",
       "    </tr>\n",
       "    <tr>\n",
       "      <th>3</th>\n",
       "      <td>Call of Duty: Modern Warfare 3</td>\n",
       "      <td>X360</td>\n",
       "      <td>2011.0</td>\n",
       "      <td>Shooter</td>\n",
       "      <td>Activision</td>\n",
       "      <td>9.03</td>\n",
       "      <td>4.28</td>\n",
       "      <td>0.13</td>\n",
       "      <td>1.32</td>\n",
       "      <td>14.76</td>\n",
       "    </tr>\n",
       "    <tr>\n",
       "      <th>4</th>\n",
       "      <td>Call of Duty: Black Ops</td>\n",
       "      <td>X360</td>\n",
       "      <td>2010.0</td>\n",
       "      <td>Shooter</td>\n",
       "      <td>Activision</td>\n",
       "      <td>9.67</td>\n",
       "      <td>3.73</td>\n",
       "      <td>0.11</td>\n",
       "      <td>1.13</td>\n",
       "      <td>14.64</td>\n",
       "    </tr>\n",
       "  </tbody>\n",
       "</table>\n",
       "</div>"
      ],
      "text/plain": [
       "                             Name Platform    Year    Genre  \\\n",
       "0              Kinect Adventures!     X360  2010.0     Misc   \n",
       "1              Grand Theft Auto V      PS3  2013.0   Action   \n",
       "2              Grand Theft Auto V     X360  2013.0   Action   \n",
       "3  Call of Duty: Modern Warfare 3     X360  2011.0  Shooter   \n",
       "4         Call of Duty: Black Ops     X360  2010.0  Shooter   \n",
       "\n",
       "                Publisher  NA_Sales  EU_Sales  JP_Sales  Other_Sales  \\\n",
       "0  Microsoft Game Studios     14.97      4.94      0.24         1.67   \n",
       "1    Take-Two Interactive      7.01      9.27      0.97         4.14   \n",
       "2    Take-Two Interactive      9.63      5.31      0.06         1.38   \n",
       "3              Activision      9.03      4.28      0.13         1.32   \n",
       "4              Activision      9.67      3.73      0.11         1.13   \n",
       "\n",
       "   Global_Sales  \n",
       "0         21.82  \n",
       "1         21.40  \n",
       "2         16.38  \n",
       "3         14.76  \n",
       "4         14.64  "
      ]
     },
     "execution_count": 18,
     "metadata": {},
     "output_type": "execute_result"
    }
   ],
   "source": [
    "game_sales.head()"
   ]
  },
  {
   "cell_type": "code",
   "execution_count": 19,
   "id": "f111b864",
   "metadata": {},
   "outputs": [
    {
     "name": "stdout",
     "output_type": "stream",
     "text": [
      "<class 'pandas.core.frame.DataFrame'>\n",
      "RangeIndex: 3143 entries, 0 to 3142\n",
      "Data columns (total 10 columns):\n",
      " #   Column        Non-Null Count  Dtype  \n",
      "---  ------        --------------  -----  \n",
      " 0   Name          3143 non-null   object \n",
      " 1   Platform      3143 non-null   object \n",
      " 2   Year          3088 non-null   float64\n",
      " 3   Genre         3143 non-null   object \n",
      " 4   Publisher     3136 non-null   object \n",
      " 5   NA_Sales      3143 non-null   float64\n",
      " 6   EU_Sales      3143 non-null   float64\n",
      " 7   JP_Sales      3143 non-null   float64\n",
      " 8   Other_Sales   3143 non-null   float64\n",
      " 9   Global_Sales  3143 non-null   float64\n",
      "dtypes: float64(6), object(4)\n",
      "memory usage: 245.7+ KB\n"
     ]
    }
   ],
   "source": [
    "game_sales.info()"
   ]
  },
  {
   "cell_type": "markdown",
   "id": "a1adcc61",
   "metadata": {},
   "source": [
    "### Simple aggrigation"
   ]
  },
  {
   "cell_type": "code",
   "execution_count": 24,
   "id": "928f9734",
   "metadata": {},
   "outputs": [
    {
     "data": {
      "text/plain": [
       "NA_Sales       1173.30\n",
       "EU_Sales        793.64\n",
       "JP_Sales        107.06\n",
       "Other_Sales     282.75\n",
       "dtype: float64"
      ]
     },
     "execution_count": 24,
     "metadata": {},
     "output_type": "execute_result"
    }
   ],
   "source": [
    "#total sales across all the reasons\n",
    "#Here we need all the rows but columns with sales only, so select those data only\n",
    "game_sales.loc[:,['NA_Sales','EU_Sales','JP_Sales','Other_Sales']].sum()"
   ]
  },
  {
   "cell_type": "code",
   "execution_count": 26,
   "id": "0ab3e14e",
   "metadata": {},
   "outputs": [
    {
     "data": {
      "text/plain": [
       "NA_Sales       14.97\n",
       "EU_Sales        9.27\n",
       "JP_Sales        1.87\n",
       "Other_Sales     4.14\n",
       "dtype: float64"
      ]
     },
     "execution_count": 26,
     "metadata": {},
     "output_type": "execute_result"
    }
   ],
   "source": [
    "game_sales.loc[:,['NA_Sales','EU_Sales','JP_Sales','Other_Sales']].max()"
   ]
  },
  {
   "cell_type": "markdown",
   "id": "6a69b771",
   "metadata": {},
   "source": [
    "### Conditional aggrigation"
   ]
  },
  {
   "cell_type": "code",
   "execution_count": 30,
   "id": "9238be8c",
   "metadata": {},
   "outputs": [
    {
     "data": {
      "text/plain": [
       "array(['X360', 'PS3', 'PS4', 'XOne'], dtype=object)"
      ]
     },
     "execution_count": 30,
     "metadata": {},
     "output_type": "execute_result"
    }
   ],
   "source": [
    "game_sales.Platform.unique()"
   ]
  },
  {
   "cell_type": "code",
   "execution_count": 31,
   "id": "60ce6432",
   "metadata": {},
   "outputs": [],
   "source": [
    "#Objective : find total sales by region for X360 and PS3"
   ]
  },
  {
   "cell_type": "code",
   "execution_count": 33,
   "id": "0cef5399",
   "metadata": {},
   "outputs": [],
   "source": [
    "sales=game_sales.loc[:,['Platform','NA_Sales','EU_Sales','JP_Sales','Other_Sales']]"
   ]
  },
  {
   "cell_type": "code",
   "execution_count": 38,
   "id": "a380d1dc",
   "metadata": {},
   "outputs": [
    {
     "data": {
      "text/plain": [
       "NA_Sales       1173.30\n",
       "EU_Sales        793.64\n",
       "JP_Sales        107.06\n",
       "Other_Sales     282.75\n",
       "dtype: float64"
      ]
     },
     "execution_count": 38,
     "metadata": {},
     "output_type": "execute_result"
    }
   ],
   "source": [
    "#find sum only for numberic data not to the string\n",
    "sales.sum(numeric_only=True)"
   ]
  },
  {
   "cell_type": "code",
   "execution_count": 40,
   "id": "5500e60c",
   "metadata": {},
   "outputs": [
    {
     "data": {
      "text/html": [
       "<div>\n",
       "<style scoped>\n",
       "    .dataframe tbody tr th:only-of-type {\n",
       "        vertical-align: middle;\n",
       "    }\n",
       "\n",
       "    .dataframe tbody tr th {\n",
       "        vertical-align: top;\n",
       "    }\n",
       "\n",
       "    .dataframe thead th {\n",
       "        text-align: right;\n",
       "    }\n",
       "</style>\n",
       "<table border=\"1\" class=\"dataframe\">\n",
       "  <thead>\n",
       "    <tr style=\"text-align: right;\">\n",
       "      <th></th>\n",
       "      <th>Platform</th>\n",
       "      <th>NA_Sales</th>\n",
       "      <th>EU_Sales</th>\n",
       "      <th>JP_Sales</th>\n",
       "      <th>Other_Sales</th>\n",
       "    </tr>\n",
       "  </thead>\n",
       "  <tbody>\n",
       "    <tr>\n",
       "      <th>0</th>\n",
       "      <td>X360</td>\n",
       "      <td>14.97</td>\n",
       "      <td>4.94</td>\n",
       "      <td>0.24</td>\n",
       "      <td>1.67</td>\n",
       "    </tr>\n",
       "    <tr>\n",
       "      <th>1</th>\n",
       "      <td>PS3</td>\n",
       "      <td>7.01</td>\n",
       "      <td>9.27</td>\n",
       "      <td>0.97</td>\n",
       "      <td>4.14</td>\n",
       "    </tr>\n",
       "    <tr>\n",
       "      <th>2</th>\n",
       "      <td>X360</td>\n",
       "      <td>9.63</td>\n",
       "      <td>5.31</td>\n",
       "      <td>0.06</td>\n",
       "      <td>1.38</td>\n",
       "    </tr>\n",
       "    <tr>\n",
       "      <th>3</th>\n",
       "      <td>X360</td>\n",
       "      <td>9.03</td>\n",
       "      <td>4.28</td>\n",
       "      <td>0.13</td>\n",
       "      <td>1.32</td>\n",
       "    </tr>\n",
       "    <tr>\n",
       "      <th>4</th>\n",
       "      <td>X360</td>\n",
       "      <td>9.67</td>\n",
       "      <td>3.73</td>\n",
       "      <td>0.11</td>\n",
       "      <td>1.13</td>\n",
       "    </tr>\n",
       "    <tr>\n",
       "      <th>...</th>\n",
       "      <td>...</td>\n",
       "      <td>...</td>\n",
       "      <td>...</td>\n",
       "      <td>...</td>\n",
       "      <td>...</td>\n",
       "    </tr>\n",
       "    <tr>\n",
       "      <th>3138</th>\n",
       "      <td>X360</td>\n",
       "      <td>0.00</td>\n",
       "      <td>0.01</td>\n",
       "      <td>0.00</td>\n",
       "      <td>0.00</td>\n",
       "    </tr>\n",
       "    <tr>\n",
       "      <th>3139</th>\n",
       "      <td>XOne</td>\n",
       "      <td>0.01</td>\n",
       "      <td>0.00</td>\n",
       "      <td>0.00</td>\n",
       "      <td>0.00</td>\n",
       "    </tr>\n",
       "    <tr>\n",
       "      <th>3140</th>\n",
       "      <td>XOne</td>\n",
       "      <td>0.01</td>\n",
       "      <td>0.00</td>\n",
       "      <td>0.00</td>\n",
       "      <td>0.00</td>\n",
       "    </tr>\n",
       "    <tr>\n",
       "      <th>3141</th>\n",
       "      <td>PS4</td>\n",
       "      <td>0.00</td>\n",
       "      <td>0.01</td>\n",
       "      <td>0.00</td>\n",
       "      <td>0.00</td>\n",
       "    </tr>\n",
       "    <tr>\n",
       "      <th>3142</th>\n",
       "      <td>XOne</td>\n",
       "      <td>0.00</td>\n",
       "      <td>0.01</td>\n",
       "      <td>0.00</td>\n",
       "      <td>0.00</td>\n",
       "    </tr>\n",
       "  </tbody>\n",
       "</table>\n",
       "<p>3143 rows × 5 columns</p>\n",
       "</div>"
      ],
      "text/plain": [
       "     Platform  NA_Sales  EU_Sales  JP_Sales  Other_Sales\n",
       "0        X360     14.97      4.94      0.24         1.67\n",
       "1         PS3      7.01      9.27      0.97         4.14\n",
       "2        X360      9.63      5.31      0.06         1.38\n",
       "3        X360      9.03      4.28      0.13         1.32\n",
       "4        X360      9.67      3.73      0.11         1.13\n",
       "...       ...       ...       ...       ...          ...\n",
       "3138     X360      0.00      0.01      0.00         0.00\n",
       "3139     XOne      0.01      0.00      0.00         0.00\n",
       "3140     XOne      0.01      0.00      0.00         0.00\n",
       "3141      PS4      0.00      0.01      0.00         0.00\n",
       "3142     XOne      0.00      0.01      0.00         0.00\n",
       "\n",
       "[3143 rows x 5 columns]"
      ]
     },
     "execution_count": 40,
     "metadata": {},
     "output_type": "execute_result"
    }
   ],
   "source": [
    "sales"
   ]
  },
  {
   "cell_type": "code",
   "execution_count": 45,
   "id": "0721a1b3",
   "metadata": {},
   "outputs": [
    {
     "data": {
      "text/plain": [
       "NA_Sales       601.05\n",
       "EU_Sales       280.58\n",
       "JP_Sales        12.43\n",
       "Other_Sales     85.54\n",
       "dtype: float64"
      ]
     },
     "execution_count": 45,
     "metadata": {},
     "output_type": "execute_result"
    }
   ],
   "source": [
    "sales.loc[sales.Platform=='X360'].sum(numeric_only=True)"
   ]
  },
  {
   "cell_type": "code",
   "execution_count": 46,
   "id": "fbb216c2",
   "metadata": {},
   "outputs": [
    {
     "data": {
      "text/plain": [
       "NA_Sales       392.26\n",
       "EU_Sales       343.71\n",
       "JP_Sales        79.99\n",
       "Other_Sales    141.93\n",
       "dtype: float64"
      ]
     },
     "execution_count": 46,
     "metadata": {},
     "output_type": "execute_result"
    }
   ],
   "source": [
    "sales.loc[sales.Platform=='PS3'].sum(numeric_only=True)"
   ]
  },
  {
   "cell_type": "code",
   "execution_count": null,
   "id": "e3aa4497",
   "metadata": {},
   "outputs": [],
   "source": []
  }
 ],
 "metadata": {
  "kernelspec": {
   "display_name": "Python 3 (ipykernel)",
   "language": "python",
   "name": "python3"
  },
  "language_info": {
   "codemirror_mode": {
    "name": "ipython",
    "version": 3
   },
   "file_extension": ".py",
   "mimetype": "text/x-python",
   "name": "python",
   "nbconvert_exporter": "python",
   "pygments_lexer": "ipython3",
   "version": "3.8.10"
  }
 },
 "nbformat": 4,
 "nbformat_minor": 5
}
