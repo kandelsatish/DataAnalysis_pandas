{
 "cells": [
  {
   "cell_type": "markdown",
   "id": "831939bb",
   "metadata": {},
   "source": [
    "What is series?\n",
    " * one dimentional, labelled arrarys, of any data type\n",
    " * Or a sequence of values with associated labels"
   ]
  },
  {
   "cell_type": "code",
   "execution_count": 4,
   "id": "1191e265",
   "metadata": {},
   "outputs": [],
   "source": [
    "import pandas as pd"
   ]
  },
  {
   "cell_type": "code",
   "execution_count": 2,
   "id": "5e4348d0",
   "metadata": {},
   "outputs": [],
   "source": [
    "student=[\"Anfrew\",\"Brie\",\"Kanika\"]"
   ]
  },
  {
   "cell_type": "code",
   "execution_count": 3,
   "id": "a08caf30",
   "metadata": {},
   "outputs": [
    {
     "data": {
      "text/plain": [
       "list"
      ]
     },
     "execution_count": 3,
     "metadata": {},
     "output_type": "execute_result"
    }
   ],
   "source": [
    "type(student)"
   ]
  },
  {
   "cell_type": "code",
   "execution_count": 5,
   "id": "4bdfffc6",
   "metadata": {},
   "outputs": [
    {
     "data": {
      "text/plain": [
       "0    Anfrew\n",
       "1      Brie\n",
       "2    Kanika\n",
       "dtype: object"
      ]
     },
     "execution_count": 5,
     "metadata": {},
     "output_type": "execute_result"
    }
   ],
   "source": [
    "pd.Series(student)"
   ]
  },
  {
   "cell_type": "code",
   "execution_count": 6,
   "id": "16131241",
   "metadata": {},
   "outputs": [],
   "source": [
    "ages=[27,49,37]"
   ]
  },
  {
   "cell_type": "code",
   "execution_count": 8,
   "id": "e9180f3b",
   "metadata": {},
   "outputs": [
    {
     "data": {
      "text/plain": [
       "0    27\n",
       "1    49\n",
       "2    37\n",
       "dtype: int64"
      ]
     },
     "execution_count": 8,
     "metadata": {},
     "output_type": "execute_result"
    }
   ],
   "source": [
    "pd.Series(ages)"
   ]
  },
  {
   "cell_type": "code",
   "execution_count": 6,
   "id": "78857c9c",
   "metadata": {},
   "outputs": [],
   "source": [
    "heights=[167,173.2,19 ]\n"
   ]
  },
  {
   "cell_type": "code",
   "execution_count": 7,
   "id": "22ad9573",
   "metadata": {},
   "outputs": [
    {
     "data": {
      "text/plain": [
       "0    167.0\n",
       "1    173.2\n",
       "2     19.0\n",
       "dtype: float64"
      ]
     },
     "execution_count": 7,
     "metadata": {},
     "output_type": "execute_result"
    }
   ],
   "source": [
    "pd.Series(heights)"
   ]
  },
  {
   "cell_type": "markdown",
   "id": "79974970",
   "metadata": {},
   "source": [
    "As we noticed by executing above code, series converted all the value inside it into float."
   ]
  },
  {
   "cell_type": "code",
   "execution_count": 14,
   "id": "da7cdc60",
   "metadata": {},
   "outputs": [],
   "source": [
    "#series supports mixed datatype\n",
    "mixed=[True,'satish',{\"myage\":25}]"
   ]
  },
  {
   "cell_type": "code",
   "execution_count": null,
   "id": "05be20c3",
   "metadata": {},
   "outputs": [],
   "source": []
  }
 ],
 "metadata": {
  "kernelspec": {
   "display_name": "Python 3 (ipykernel)",
   "language": "python",
   "name": "python3"
  },
  "language_info": {
   "codemirror_mode": {
    "name": "ipython",
    "version": 3
   },
   "file_extension": ".py",
   "mimetype": "text/x-python",
   "name": "python",
   "nbconvert_exporter": "python",
   "pygments_lexer": "ipython3",
   "version": "3.8.10"
  }
 },
 "nbformat": 4,
 "nbformat_minor": 5
}
