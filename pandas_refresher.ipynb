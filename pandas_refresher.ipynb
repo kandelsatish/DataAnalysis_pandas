{
 "cells": [
  {
   "cell_type": "code",
   "execution_count": 2,
   "id": "5d15bd01",
   "metadata": {},
   "outputs": [
    {
     "name": "stdout",
     "output_type": "stream",
     "text": [
      "This is pandas\n"
     ]
    }
   ],
   "source": [
    "print(\"This is pandas\")"
   ]
  },
  {
   "cell_type": "markdown",
   "id": "557ad072",
   "metadata": {},
   "source": [
    "In this book we will learn the follwing topics:\n",
    "* pandas basics\n",
    "* pandas data manupulation\n",
    "* advanced pandas techniques\n",
    "* and much more"
   ]
  },
  {
   "cell_type": "markdown",
   "id": "fa8afc71",
   "metadata": {},
   "source": [
    "Before starting pandas we should be familier with the Numpy which is a python liberary to process numeric data and pandas relies on numpy.\n"
   ]
  },
  {
   "cell_type": "code",
   "execution_count": 4,
   "id": "b1e8237b",
   "metadata": {},
   "outputs": [],
   "source": [
    "import pandas as  pd\n",
    "import numpy as np"
   ]
  },
  {
   "cell_type": "code",
   "execution_count": 6,
   "id": "e36eb068",
   "metadata": {},
   "outputs": [
    {
     "data": {
      "text/plain": [
       "'1.23.2'"
      ]
     },
     "execution_count": 6,
     "metadata": {},
     "output_type": "execute_result"
    }
   ],
   "source": [
    "#check version of pandas and numpy\n",
    "pd.__version__\n",
    "np.__version__"
   ]
  },
  {
   "cell_type": "markdown",
   "id": "3c07541a",
   "metadata": {},
   "source": [
    "What is numpy?\n",
    " * n-dimentional array: a connection of elements"
   ]
  },
  {
   "cell_type": "code",
   "execution_count": 7,
   "id": "186fb793",
   "metadata": {},
   "outputs": [],
   "source": [
    "#to see difference between numpy and the python list\n",
    "a_py=[10,20,40,23,123,1222]"
   ]
  },
  {
   "cell_type": "code",
   "execution_count": 8,
   "id": "3cabc882",
   "metadata": {},
   "outputs": [
    {
     "data": {
      "text/plain": [
       "list"
      ]
     },
     "execution_count": 8,
     "metadata": {},
     "output_type": "execute_result"
    }
   ],
   "source": [
    "type(a_py)"
   ]
  },
  {
   "cell_type": "code",
   "execution_count": 9,
   "id": "b4456554",
   "metadata": {},
   "outputs": [],
   "source": [
    "b_np=np.array([1,2,3,4,5,6,98,1])"
   ]
  },
  {
   "cell_type": "code",
   "execution_count": 10,
   "id": "c21c1b0e",
   "metadata": {},
   "outputs": [
    {
     "data": {
      "text/plain": [
       "numpy.ndarray"
      ]
     },
     "execution_count": 10,
     "metadata": {},
     "output_type": "execute_result"
    }
   ],
   "source": [
    "type(b_np)"
   ]
  },
  {
   "cell_type": "code",
   "execution_count": 11,
   "id": "1184cf14",
   "metadata": {},
   "outputs": [
    {
     "data": {
      "text/plain": [
       "[10, 20, 40, 23, 123, 1222]"
      ]
     },
     "execution_count": 11,
     "metadata": {},
     "output_type": "execute_result"
    }
   ],
   "source": [
    "a_py"
   ]
  },
  {
   "cell_type": "code",
   "execution_count": 13,
   "id": "16f0239f",
   "metadata": {},
   "outputs": [
    {
     "data": {
      "text/plain": [
       "array([ 1,  2,  3,  4,  5,  6, 98,  1])"
      ]
     },
     "execution_count": 13,
     "metadata": {},
     "output_type": "execute_result"
    }
   ],
   "source": [
    "b_np"
   ]
  },
  {
   "cell_type": "markdown",
   "id": "73d4629d",
   "metadata": {},
   "source": [
    "whats the point of ussing python list if they are similar in nature?\n",
    "* Numpy is very quick and much better performance and low memory consumption."
   ]
  },
  {
   "cell_type": "markdown",
   "id": "728b0dfd",
   "metadata": {},
   "source": [
    "Typical use case:\n",
    "if we want to multiply all the numbers in the list with 1o then lets see two approcah to do this"
   ]
  },
  {
   "cell_type": "code",
   "execution_count": 14,
   "id": "412fa2a1",
   "metadata": {},
   "outputs": [
    {
     "data": {
      "text/plain": [
       "[100, 200, 400, 230, 1230, 12220]"
      ]
     },
     "execution_count": 14,
     "metadata": {},
     "output_type": "execute_result"
    }
   ],
   "source": [
    "arr=[]\n",
    "for i in a_py:\n",
    "    arr.append(i*10)\n",
    "    \n",
    "arr"
   ]
  },
  {
   "cell_type": "code",
   "execution_count": 16,
   "id": "4f65703f",
   "metadata": {},
   "outputs": [
    {
     "data": {
      "text/plain": [
       "[100, 200, 400, 230, 1230, 12220]"
      ]
     },
     "execution_count": 16,
     "metadata": {},
     "output_type": "execute_result"
    }
   ],
   "source": [
    "# Or this can also be done as\n",
    "list(map(lambda i: i*10,a_py))\n",
    "# refrence: https://cs.stanford.edu/people/nick/py/python-map-lambda.html"
   ]
  },
  {
   "cell_type": "code",
   "execution_count": 17,
   "id": "011452f9",
   "metadata": {},
   "outputs": [
    {
     "data": {
      "text/plain": [
       "array([ 10,  20,  30,  40,  50,  60, 980,  10])"
      ]
     },
     "execution_count": 17,
     "metadata": {},
     "output_type": "execute_result"
    }
   ],
   "source": [
    "#In numpy to accomplish same result\n",
    "b_np*10"
   ]
  },
  {
   "cell_type": "code",
   "execution_count": 18,
   "id": "3433a845",
   "metadata": {},
   "outputs": [],
   "source": [
    "c_np=np.array([1,2,8]);"
   ]
  },
  {
   "cell_type": "code",
   "execution_count": 19,
   "id": "76d788b2",
   "metadata": {},
   "outputs": [
    {
     "data": {
      "text/plain": [
       "dtype('int64')"
      ]
     },
     "execution_count": 19,
     "metadata": {},
     "output_type": "execute_result"
    }
   ],
   "source": [
    "#to check data type stored in the numpy array: numpy can store only one type of data in a single array.\n",
    "c_np.dtype"
   ]
  },
  {
   "cell_type": "code",
   "execution_count": null,
   "id": "1a788a23",
   "metadata": {},
   "outputs": [],
   "source": []
  }
 ],
 "metadata": {
  "kernelspec": {
   "display_name": "Python 3 (ipykernel)",
   "language": "python",
   "name": "python3"
  },
  "language_info": {
   "codemirror_mode": {
    "name": "ipython",
    "version": 3
   },
   "file_extension": ".py",
   "mimetype": "text/x-python",
   "name": "python",
   "nbconvert_exporter": "python",
   "pygments_lexer": "ipython3",
   "version": "3.8.10"
  }
 },
 "nbformat": 4,
 "nbformat_minor": 5
}
