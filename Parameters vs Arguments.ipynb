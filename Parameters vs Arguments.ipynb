{
 "cells": [
  {
   "cell_type": "code",
   "execution_count": 1,
   "id": "c5af604a",
   "metadata": {},
   "outputs": [],
   "source": [
    "import pandas as pd"
   ]
  },
  {
   "cell_type": "code",
   "execution_count": 2,
   "id": "c86b1f96",
   "metadata": {},
   "outputs": [],
   "source": [
    "student=[\"satish\",\"arjun\",\"manju\"]"
   ]
  },
  {
   "cell_type": "code",
   "execution_count": 3,
   "id": "2eeefc2f",
   "metadata": {},
   "outputs": [
    {
     "data": {
      "text/plain": [
       "0    satish\n",
       "1     arjun\n",
       "2     manju\n",
       "dtype: object"
      ]
     },
     "execution_count": 3,
     "metadata": {},
     "output_type": "execute_result"
    }
   ],
   "source": [
    "pd.Series(student)"
   ]
  },
  {
   "cell_type": "code",
   "execution_count": 4,
   "id": "c3adf87f",
   "metadata": {},
   "outputs": [
    {
     "data": {
      "text/plain": [
       "0    satish\n",
       "1     arjun\n",
       "2     manju\n",
       "dtype: object"
      ]
     },
     "execution_count": 4,
     "metadata": {},
     "output_type": "execute_result"
    }
   ],
   "source": [
    "pd.Series(data=student)"
   ]
  },
  {
   "cell_type": "markdown",
   "id": "31b6b127",
   "metadata": {},
   "source": [
    "What is parameter and arguments?\n",
    "* parameter is a variable in method defination\n",
    "* argument is the actual value that we pass to the parameter\n",
    "In above step \"data\" is parameter and \"student\" is argument."
   ]
  },
  {
   "cell_type": "code",
   "execution_count": 5,
   "id": "ebf13338",
   "metadata": {},
   "outputs": [],
   "source": [
    "def someFuncation(somevalue):\n",
    "    print(somevalue)"
   ]
  },
  {
   "cell_type": "code",
   "execution_count": 6,
   "id": "d5bfa621",
   "metadata": {},
   "outputs": [
    {
     "name": "stdout",
     "output_type": "stream",
     "text": [
      "Hello this is to distinguish parameter and arguments\n"
     ]
    }
   ],
   "source": [
    "someFuncation(\"Hello this is to distinguish parameter and arguments\")"
   ]
  },
  {
   "cell_type": "markdown",
   "id": "1ba8571b",
   "metadata": {},
   "source": [
    "How to explore data inside series?\n",
    "Can we pass list and dictionary both to the Series"
   ]
  },
  {
   "cell_type": "code",
   "execution_count": 7,
   "id": "3aabd30e",
   "metadata": {},
   "outputs": [],
   "source": [
    "book_list=[\"book1\",\"book2\",\"book3\",\"book4\"]"
   ]
  },
  {
   "cell_type": "code",
   "execution_count": 8,
   "id": "ab635752",
   "metadata": {},
   "outputs": [],
   "source": [
    "list_s=pd.Series(book_list)"
   ]
  },
  {
   "cell_type": "code",
   "execution_count": 9,
   "id": "3966b219",
   "metadata": {},
   "outputs": [],
   "source": [
    "book_dict={0:\"book1\",1:\"book2\",2:\"book3\",3:\"book4\"}"
   ]
  },
  {
   "cell_type": "code",
   "execution_count": 10,
   "id": "5907119f",
   "metadata": {},
   "outputs": [],
   "source": [
    "list_dict=pd.Series(book_dict)"
   ]
  },
  {
   "cell_type": "code",
   "execution_count": 11,
   "id": "51c17777",
   "metadata": {},
   "outputs": [
    {
     "data": {
      "text/plain": [
       "True"
      ]
     },
     "execution_count": 11,
     "metadata": {},
     "output_type": "execute_result"
    }
   ],
   "source": [
    "list_s.equals(list_dict)"
   ]
  },
  {
   "cell_type": "markdown",
   "id": "4355c6f7",
   "metadata": {},
   "source": [
    "## dtype Attribute"
   ]
  },
  {
   "cell_type": "code",
   "execution_count": 12,
   "id": "8afb653e",
   "metadata": {},
   "outputs": [
    {
     "data": {
      "text/plain": [
       "0     10.0\n",
       "1     13.0\n",
       "2    189.0\n",
       "dtype: float64"
      ]
     },
     "execution_count": 12,
     "metadata": {},
     "output_type": "execute_result"
    }
   ],
   "source": [
    "#We can spefefy data type by specefying dtype value\n",
    "pd.Series([10,13,189],dtype=\"float\")"
   ]
  },
  {
   "cell_type": "markdown",
   "id": "88416cdd",
   "metadata": {},
   "source": [
    "### Index and Range index\n",
    "Index is the level assigened to the each of the data in the series. We can access then with the help of index. Also those index can be assigned manually by ourself as shown in the example below."
   ]
  },
  {
   "cell_type": "code",
   "execution_count": 13,
   "id": "e577c968",
   "metadata": {},
   "outputs": [
    {
     "data": {
      "text/plain": [
       "bookfirst     book1\n",
       "booksecond    book2\n",
       "bookthird     book3\n",
       "bookforth     book4\n",
       "dtype: object"
      ]
     },
     "execution_count": 13,
     "metadata": {},
     "output_type": "execute_result"
    }
   ],
   "source": [
    "pd.Series(data=book_list,index=[\"bookfirst\",\"booksecond\",\"bookthird\",\"bookforth\"])"
   ]
  },
  {
   "cell_type": "code",
   "execution_count": 14,
   "id": "5886904b",
   "metadata": {},
   "outputs": [
    {
     "data": {
      "text/plain": [
       "bookfirst     book1\n",
       "booksecond    book2\n",
       "bookthird     book3\n",
       "bookforth     book4\n",
       "dtype: object"
      ]
     },
     "execution_count": 14,
     "metadata": {},
     "output_type": "execute_result"
    }
   ],
   "source": [
    "pd.Series(data=book_list,index=[\"bookfirst\",\"booksecond\",\"bookthird\",\"bookforth\"],dtype='object')"
   ]
  },
  {
   "cell_type": "code",
   "execution_count": 15,
   "id": "4ef3e88f",
   "metadata": {},
   "outputs": [
    {
     "data": {
      "text/plain": [
       "bookfirst     book1\n",
       "booksecond    book2\n",
       "bookthird     book3\n",
       "bookforth     book4\n",
       "dtype: string"
      ]
     },
     "execution_count": 15,
     "metadata": {},
     "output_type": "execute_result"
    }
   ],
   "source": [
    "pd.Series(data=book_list,index=[\"bookfirst\",\"booksecond\",\"bookthird\",\"bookforth\"],dtype=\"string\")"
   ]
  },
  {
   "cell_type": "code",
   "execution_count": 16,
   "id": "dfa923ed",
   "metadata": {},
   "outputs": [
    {
     "data": {
      "text/plain": [
       "'1.4.3'"
      ]
     },
     "execution_count": 16,
     "metadata": {},
     "output_type": "execute_result"
    }
   ],
   "source": [
    "pd.__version__"
   ]
  },
  {
   "cell_type": "code",
   "execution_count": 17,
   "id": "5bc5d968",
   "metadata": {},
   "outputs": [
    {
     "data": {
      "text/plain": [
       "<function list.index(value, start=0, stop=9223372036854775807, /)>"
      ]
     },
     "execution_count": 17,
     "metadata": {},
     "output_type": "execute_result"
    }
   ],
   "source": [
    "book_list.index"
   ]
  },
  {
   "cell_type": "code",
   "execution_count": 18,
   "id": "50ec1d61",
   "metadata": {},
   "outputs": [
    {
     "data": {
      "text/plain": [
       "RangeIndex(start=4, stop=9, step=2)"
      ]
     },
     "execution_count": 18,
     "metadata": {},
     "output_type": "execute_result"
    }
   ],
   "source": [
    "pd.RangeIndex(start=4,stop=9,step=2)"
   ]
  },
  {
   "cell_type": "code",
   "execution_count": 19,
   "id": "b145bbf0",
   "metadata": {},
   "outputs": [
    {
     "data": {
      "text/plain": [
       "[4, 6, 8]"
      ]
     },
     "execution_count": 19,
     "metadata": {},
     "output_type": "execute_result"
    }
   ],
   "source": [
    "list(pd.RangeIndex(start=4,stop=9,step=2))"
   ]
  },
  {
   "cell_type": "code",
   "execution_count": 20,
   "id": "078af6e2",
   "metadata": {},
   "outputs": [
    {
     "data": {
      "text/plain": [
       "[20,\n",
       " 18,\n",
       " 16,\n",
       " 14,\n",
       " 12,\n",
       " 10,\n",
       " 8,\n",
       " 6,\n",
       " 4,\n",
       " 2,\n",
       " 0,\n",
       " -2,\n",
       " -4,\n",
       " -6,\n",
       " -8,\n",
       " -10,\n",
       " -12,\n",
       " -14,\n",
       " -16,\n",
       " -18]"
      ]
     },
     "execution_count": 20,
     "metadata": {},
     "output_type": "execute_result"
    }
   ],
   "source": [
    "list(pd.RangeIndex(start=20,stop=-20,step=-2))"
   ]
  },
  {
   "cell_type": "markdown",
   "id": "21fe8060",
   "metadata": {},
   "source": [
    "### series and index names"
   ]
  },
  {
   "cell_type": "code",
   "execution_count": 21,
   "id": "68c1fece",
   "metadata": {},
   "outputs": [],
   "source": [
    "book_series=pd.Series(book_list)"
   ]
  },
  {
   "cell_type": "code",
   "execution_count": 22,
   "id": "899adc4c",
   "metadata": {},
   "outputs": [
    {
     "data": {
      "text/plain": [
       "0    book1\n",
       "1    book2\n",
       "2    book3\n",
       "3    book4\n",
       "dtype: object"
      ]
     },
     "execution_count": 22,
     "metadata": {},
     "output_type": "execute_result"
    }
   ],
   "source": [
    "book_series"
   ]
  },
  {
   "cell_type": "code",
   "execution_count": 23,
   "id": "44ad949a",
   "metadata": {},
   "outputs": [],
   "source": [
    "book_series.name"
   ]
  },
  {
   "cell_type": "code",
   "execution_count": 24,
   "id": "91f135a2",
   "metadata": {},
   "outputs": [
    {
     "data": {
      "text/plain": [
       "False"
      ]
     },
     "execution_count": 24,
     "metadata": {},
     "output_type": "execute_result"
    }
   ],
   "source": [
    "book_series.name==\"None\""
   ]
  },
  {
   "cell_type": "code",
   "execution_count": 25,
   "id": "3509c5be",
   "metadata": {},
   "outputs": [],
   "source": [
    "book_series.name=\"books\""
   ]
  },
  {
   "cell_type": "code",
   "execution_count": 26,
   "id": "29b814b2",
   "metadata": {},
   "outputs": [
    {
     "data": {
      "text/plain": [
       "'books'"
      ]
     },
     "execution_count": 26,
     "metadata": {},
     "output_type": "execute_result"
    }
   ],
   "source": [
    "book_series.name"
   ]
  },
  {
   "cell_type": "code",
   "execution_count": 27,
   "id": "6e91d40f",
   "metadata": {},
   "outputs": [
    {
     "data": {
      "text/plain": [
       "'books'"
      ]
     },
     "execution_count": 27,
     "metadata": {},
     "output_type": "execute_result"
    }
   ],
   "source": [
    "book_series.name"
   ]
  },
  {
   "cell_type": "markdown",
   "id": "76c1bf8e",
   "metadata": {},
   "source": [
    "### Take away\n",
    "series can have name and they are column name in data frame"
   ]
  },
  {
   "cell_type": "code",
   "execution_count": 28,
   "id": "3a32eaeb",
   "metadata": {},
   "outputs": [],
   "source": [
    "book_series.index.name"
   ]
  },
  {
   "cell_type": "code",
   "execution_count": 29,
   "id": "398a7b26",
   "metadata": {},
   "outputs": [
    {
     "data": {
      "text/plain": [
       "False"
      ]
     },
     "execution_count": 29,
     "metadata": {},
     "output_type": "execute_result"
    }
   ],
   "source": [
    "book_series.index.name ==\"None\""
   ]
  },
  {
   "cell_type": "code",
   "execution_count": 30,
   "id": "79389051",
   "metadata": {},
   "outputs": [],
   "source": [
    "book_series.index.name=\"book_index\""
   ]
  },
  {
   "cell_type": "code",
   "execution_count": 31,
   "id": "05f430b7",
   "metadata": {},
   "outputs": [
    {
     "data": {
      "text/plain": [
       "'book_index'"
      ]
     },
     "execution_count": 31,
     "metadata": {},
     "output_type": "execute_result"
    }
   ],
   "source": [
    "book_series.index.name"
   ]
  },
  {
   "cell_type": "markdown",
   "id": "9376f389",
   "metadata": {},
   "source": [
    "###  Challanges\n",
    "Create a python list of length 4 that contains some of your favourite persons. call this list- assign it to a variable called --persons_names"
   ]
  },
  {
   "cell_type": "code",
   "execution_count": 32,
   "id": "eb851a0f",
   "metadata": {},
   "outputs": [],
   "source": [
    "persons=[\"suman\",\"aayush\",\"sambhav\"]"
   ]
  },
  {
   "cell_type": "code",
   "execution_count": 33,
   "id": "cdeb2483",
   "metadata": {},
   "outputs": [],
   "source": [
    "persons_name=persons"
   ]
  },
  {
   "cell_type": "code",
   "execution_count": 34,
   "id": "e5a904b3",
   "metadata": {},
   "outputs": [
    {
     "data": {
      "text/plain": [
       "['suman', 'aayush', 'sambhav']"
      ]
     },
     "execution_count": 34,
     "metadata": {},
     "output_type": "execute_result"
    }
   ],
   "source": [
    "persons_name"
   ]
  },
  {
   "cell_type": "markdown",
   "id": "89f06206",
   "metadata": {},
   "source": [
    "### Head and tail methods\n",
    "* why is this method used ?\n",
    "answer: Head and tail method is used when we dont want to see whole data instead of looking at other intermediate values."
   ]
  },
  {
   "cell_type": "code",
   "execution_count": 35,
   "id": "d174a2f1",
   "metadata": {},
   "outputs": [],
   "source": [
    "int_series=pd.Series([i for i in range(10)])"
   ]
  },
  {
   "cell_type": "code",
   "execution_count": 36,
   "id": "ec793023",
   "metadata": {},
   "outputs": [
    {
     "data": {
      "text/plain": [
       "0    0\n",
       "1    1\n",
       "2    2\n",
       "3    3\n",
       "4    4\n",
       "5    5\n",
       "6    6\n",
       "7    7\n",
       "8    8\n",
       "9    9\n",
       "dtype: int64"
      ]
     },
     "execution_count": 36,
     "metadata": {},
     "output_type": "execute_result"
    }
   ],
   "source": [
    "int_series"
   ]
  },
  {
   "cell_type": "code",
   "execution_count": 37,
   "id": "92cca72f",
   "metadata": {},
   "outputs": [],
   "source": [
    "int_series=pd.Series(range(20))"
   ]
  },
  {
   "cell_type": "code",
   "execution_count": 38,
   "id": "5e6a1ea9",
   "metadata": {},
   "outputs": [
    {
     "data": {
      "text/plain": [
       "0      0\n",
       "1      1\n",
       "2      2\n",
       "3      3\n",
       "4      4\n",
       "5      5\n",
       "6      6\n",
       "7      7\n",
       "8      8\n",
       "9      9\n",
       "10    10\n",
       "11    11\n",
       "12    12\n",
       "13    13\n",
       "14    14\n",
       "15    15\n",
       "16    16\n",
       "17    17\n",
       "18    18\n",
       "19    19\n",
       "dtype: int64"
      ]
     },
     "execution_count": 38,
     "metadata": {},
     "output_type": "execute_result"
    }
   ],
   "source": [
    "int_series"
   ]
  },
  {
   "cell_type": "code",
   "execution_count": 39,
   "id": "0dadc7ac",
   "metadata": {},
   "outputs": [
    {
     "data": {
      "text/plain": [
       "20"
      ]
     },
     "execution_count": 39,
     "metadata": {},
     "output_type": "execute_result"
    }
   ],
   "source": [
    "int_series.size"
   ]
  },
  {
   "cell_type": "code",
   "execution_count": 40,
   "id": "b6f49e88",
   "metadata": {},
   "outputs": [
    {
     "data": {
      "text/plain": [
       "20"
      ]
     },
     "execution_count": 40,
     "metadata": {},
     "output_type": "execute_result"
    }
   ],
   "source": [
    "len(int_series)"
   ]
  },
  {
   "cell_type": "code",
   "execution_count": 41,
   "id": "df0569ce",
   "metadata": {},
   "outputs": [
    {
     "data": {
      "text/plain": [
       "0    0\n",
       "1    1\n",
       "2    2\n",
       "3    3\n",
       "4    4\n",
       "dtype: int64"
      ]
     },
     "execution_count": 41,
     "metadata": {},
     "output_type": "execute_result"
    }
   ],
   "source": [
    "int_series.head()"
   ]
  },
  {
   "cell_type": "code",
   "execution_count": 42,
   "id": "00d736d1",
   "metadata": {},
   "outputs": [
    {
     "data": {
      "text/plain": [
       "15    15\n",
       "16    16\n",
       "17    17\n",
       "18    18\n",
       "19    19\n",
       "dtype: int64"
      ]
     },
     "execution_count": 42,
     "metadata": {},
     "output_type": "execute_result"
    }
   ],
   "source": [
    "int_series.tail()"
   ]
  },
  {
   "cell_type": "code",
   "execution_count": 43,
   "id": "a8525ef0",
   "metadata": {},
   "outputs": [
    {
     "data": {
      "text/plain": [
       "0    0\n",
       "1    1\n",
       "dtype: int64"
      ]
     },
     "execution_count": 43,
     "metadata": {},
     "output_type": "execute_result"
    }
   ],
   "source": [
    "int_series.head(2)"
   ]
  },
  {
   "cell_type": "code",
   "execution_count": 44,
   "id": "7807396c",
   "metadata": {},
   "outputs": [
    {
     "data": {
      "text/plain": [
       "18    18\n",
       "19    19\n",
       "dtype: int64"
      ]
     },
     "execution_count": 44,
     "metadata": {},
     "output_type": "execute_result"
    }
   ],
   "source": [
    "int_series.tail(2)"
   ]
  },
  {
   "cell_type": "markdown",
   "id": "647c5967",
   "metadata": {},
   "source": [
    "### EXtracting by index"
   ]
  },
  {
   "cell_type": "code",
   "execution_count": 45,
   "id": "a76dd733",
   "metadata": {},
   "outputs": [],
   "source": [
    "from string import ascii_lowercase"
   ]
  },
  {
   "cell_type": "code",
   "execution_count": 46,
   "id": "cc13d3d4",
   "metadata": {},
   "outputs": [
    {
     "data": {
      "text/plain": [
       "'abcdefghijklmnopqrstuvwxyz'"
      ]
     },
     "execution_count": 46,
     "metadata": {},
     "output_type": "execute_result"
    }
   ],
   "source": [
    "ascii_lowercase"
   ]
  },
  {
   "cell_type": "code",
   "execution_count": 47,
   "id": "c29a3ea1",
   "metadata": {},
   "outputs": [],
   "source": [
    "lower_case=list(ascii_lowercase)"
   ]
  },
  {
   "cell_type": "code",
   "execution_count": 48,
   "id": "d65a3d82",
   "metadata": {},
   "outputs": [
    {
     "data": {
      "text/plain": [
       "['a',\n",
       " 'b',\n",
       " 'c',\n",
       " 'd',\n",
       " 'e',\n",
       " 'f',\n",
       " 'g',\n",
       " 'h',\n",
       " 'i',\n",
       " 'j',\n",
       " 'k',\n",
       " 'l',\n",
       " 'm',\n",
       " 'n',\n",
       " 'o',\n",
       " 'p',\n",
       " 'q',\n",
       " 'r',\n",
       " 's',\n",
       " 't',\n",
       " 'u',\n",
       " 'v',\n",
       " 'w',\n",
       " 'x',\n",
       " 'y',\n",
       " 'z']"
      ]
     },
     "execution_count": 48,
     "metadata": {},
     "output_type": "execute_result"
    }
   ],
   "source": [
    "lower_case"
   ]
  },
  {
   "cell_type": "code",
   "execution_count": 49,
   "id": "10cf0c4b",
   "metadata": {},
   "outputs": [
    {
     "data": {
      "text/plain": [
       "0     a\n",
       "1     b\n",
       "2     c\n",
       "3     d\n",
       "4     e\n",
       "5     f\n",
       "6     g\n",
       "7     h\n",
       "8     i\n",
       "9     j\n",
       "10    k\n",
       "11    l\n",
       "12    m\n",
       "13    n\n",
       "14    o\n",
       "15    p\n",
       "16    q\n",
       "17    r\n",
       "18    s\n",
       "19    t\n",
       "20    u\n",
       "21    v\n",
       "22    w\n",
       "23    x\n",
       "24    y\n",
       "25    z\n",
       "dtype: object"
      ]
     },
     "execution_count": 49,
     "metadata": {},
     "output_type": "execute_result"
    }
   ],
   "source": [
    "pd.Series(lower_case)"
   ]
  },
  {
   "cell_type": "code",
   "execution_count": 50,
   "id": "eeb863ef",
   "metadata": {},
   "outputs": [
    {
     "data": {
      "text/plain": [
       "'a'"
      ]
     },
     "execution_count": 50,
     "metadata": {},
     "output_type": "execute_result"
    }
   ],
   "source": [
    "pd.Series(lower_case)[0]"
   ]
  },
  {
   "cell_type": "code",
   "execution_count": 51,
   "id": "cd0ba2b0",
   "metadata": {},
   "outputs": [
    {
     "data": {
      "text/plain": [
       "0    a\n",
       "1    b\n",
       "2    c\n",
       "3    d\n",
       "4    e\n",
       "5    f\n",
       "6    g\n",
       "7    h\n",
       "8    i\n",
       "9    j\n",
       "dtype: object"
      ]
     },
     "execution_count": 51,
     "metadata": {},
     "output_type": "execute_result"
    }
   ],
   "source": [
    "pd.Series(lower_case).head(10)"
   ]
  },
  {
   "cell_type": "code",
   "execution_count": 52,
   "id": "6b9466a5",
   "metadata": {},
   "outputs": [],
   "source": [
    "alphabets=pd.Series(lower_case)"
   ]
  },
  {
   "cell_type": "code",
   "execution_count": 53,
   "id": "999bf71e",
   "metadata": {},
   "outputs": [
    {
     "data": {
      "text/plain": [
       "0     a\n",
       "1     b\n",
       "2     c\n",
       "3     d\n",
       "4     e\n",
       "5     f\n",
       "6     g\n",
       "7     h\n",
       "8     i\n",
       "9     j\n",
       "10    k\n",
       "11    l\n",
       "12    m\n",
       "13    n\n",
       "14    o\n",
       "15    p\n",
       "16    q\n",
       "17    r\n",
       "18    s\n",
       "19    t\n",
       "20    u\n",
       "21    v\n",
       "22    w\n",
       "23    x\n",
       "24    y\n",
       "25    z\n",
       "dtype: object"
      ]
     },
     "execution_count": 53,
     "metadata": {},
     "output_type": "execute_result"
    }
   ],
   "source": [
    "alphabets"
   ]
  },
  {
   "cell_type": "code",
   "execution_count": 54,
   "id": "a6cd1348",
   "metadata": {},
   "outputs": [
    {
     "data": {
      "text/plain": [
       "0     a\n",
       "1     b\n",
       "2     c\n",
       "3     d\n",
       "4     e\n",
       "5     f\n",
       "6     g\n",
       "7     h\n",
       "8     i\n",
       "9     j\n",
       "10    k\n",
       "11    l\n",
       "12    m\n",
       "13    n\n",
       "14    o\n",
       "15    p\n",
       "16    q\n",
       "17    r\n",
       "18    s\n",
       "19    t\n",
       "20    u\n",
       "21    v\n",
       "22    w\n",
       "23    x\n",
       "24    y\n",
       "25    z\n",
       "dtype: object"
      ]
     },
     "execution_count": 54,
     "metadata": {},
     "output_type": "execute_result"
    }
   ],
   "source": [
    "alphabets[0:]"
   ]
  },
  {
   "cell_type": "code",
   "execution_count": 55,
   "id": "5012eaa3",
   "metadata": {},
   "outputs": [
    {
     "data": {
      "text/plain": [
       "10    k\n",
       "11    l\n",
       "12    m\n",
       "13    n\n",
       "14    o\n",
       "15    p\n",
       "16    q\n",
       "17    r\n",
       "18    s\n",
       "19    t\n",
       "20    u\n",
       "21    v\n",
       "22    w\n",
       "23    x\n",
       "24    y\n",
       "25    z\n",
       "dtype: object"
      ]
     },
     "execution_count": 55,
     "metadata": {},
     "output_type": "execute_result"
    }
   ],
   "source": [
    "alphabets[10:]"
   ]
  },
  {
   "cell_type": "code",
   "execution_count": 56,
   "id": "18bf775c",
   "metadata": {},
   "outputs": [
    {
     "data": {
      "text/plain": [
       "0     a\n",
       "1     b\n",
       "2     c\n",
       "3     d\n",
       "4     e\n",
       "5     f\n",
       "6     g\n",
       "7     h\n",
       "8     i\n",
       "9     j\n",
       "10    k\n",
       "11    l\n",
       "12    m\n",
       "13    n\n",
       "14    o\n",
       "15    p\n",
       "16    q\n",
       "17    r\n",
       "18    s\n",
       "19    t\n",
       "20    u\n",
       "21    v\n",
       "22    w\n",
       "23    x\n",
       "24    y\n",
       "25    z\n",
       "dtype: object"
      ]
     },
     "execution_count": 56,
     "metadata": {},
     "output_type": "execute_result"
    }
   ],
   "source": [
    "alphabets[:]"
   ]
  },
  {
   "cell_type": "code",
   "execution_count": 57,
   "id": "d6198069",
   "metadata": {},
   "outputs": [
    {
     "data": {
      "text/plain": [
       "2    c\n",
       "3    d\n",
       "4    e\n",
       "dtype: object"
      ]
     },
     "execution_count": 57,
     "metadata": {},
     "output_type": "execute_result"
    }
   ],
   "source": [
    "alphabets[2:5]"
   ]
  },
  {
   "cell_type": "code",
   "execution_count": 58,
   "id": "352af49c",
   "metadata": {},
   "outputs": [],
   "source": [
    "#last 6 alphabets"
   ]
  },
  {
   "cell_type": "code",
   "execution_count": 59,
   "id": "4964e379",
   "metadata": {},
   "outputs": [
    {
     "data": {
      "text/plain": [
       "20    u\n",
       "21    v\n",
       "22    w\n",
       "23    x\n",
       "24    y\n",
       "25    z\n",
       "dtype: object"
      ]
     },
     "execution_count": 59,
     "metadata": {},
     "output_type": "execute_result"
    }
   ],
   "source": [
    "alphabets[-6:]"
   ]
  },
  {
   "cell_type": "markdown",
   "id": "fae4c4bd",
   "metadata": {},
   "source": [
    "### Labeling the series and acessing eletlemts by label"
   ]
  },
  {
   "cell_type": "code",
   "execution_count": 60,
   "id": "5a06173a",
   "metadata": {},
   "outputs": [],
   "source": [
    "from string import ascii_uppercase"
   ]
  },
  {
   "cell_type": "code",
   "execution_count": 61,
   "id": "f786921b",
   "metadata": {},
   "outputs": [
    {
     "data": {
      "text/plain": [
       "'ABCDEFGHIJKLMNOPQRSTUVWXYZ'"
      ]
     },
     "execution_count": 61,
     "metadata": {},
     "output_type": "execute_result"
    }
   ],
   "source": [
    "ascii_uppercase"
   ]
  },
  {
   "cell_type": "code",
   "execution_count": 62,
   "id": "b060b64e",
   "metadata": {},
   "outputs": [],
   "source": [
    "upper_alpha=list(ascii_uppercase)"
   ]
  },
  {
   "cell_type": "code",
   "execution_count": 97,
   "id": "3d8be33a",
   "metadata": {},
   "outputs": [
    {
     "data": {
      "text/plain": [
       "['A',\n",
       " 'B',\n",
       " 'C',\n",
       " 'D',\n",
       " 'E',\n",
       " 'F',\n",
       " 'G',\n",
       " 'H',\n",
       " 'I',\n",
       " 'J',\n",
       " 'K',\n",
       " 'L',\n",
       " 'M',\n",
       " 'N',\n",
       " 'O',\n",
       " 'P',\n",
       " 'Q',\n",
       " 'R',\n",
       " 'S',\n",
       " 'T',\n",
       " 'U',\n",
       " 'V',\n",
       " 'W',\n",
       " 'X',\n",
       " 'Y',\n",
       " 'Z']"
      ]
     },
     "execution_count": 97,
     "metadata": {},
     "output_type": "execute_result"
    }
   ],
   "source": [
    "upper_alpha"
   ]
  },
  {
   "cell_type": "code",
   "execution_count": 98,
   "id": "d18aca54",
   "metadata": {},
   "outputs": [],
   "source": [
    "upper_alpha_series=pd.Series(upper_alpha,index=alphabets)"
   ]
  },
  {
   "cell_type": "code",
   "execution_count": 99,
   "id": "8e4f6d8c",
   "metadata": {},
   "outputs": [
    {
     "data": {
      "text/plain": [
       "a    A\n",
       "b    B\n",
       "c    C\n",
       "d    D\n",
       "e    E\n",
       "f    F\n",
       "g    G\n",
       "h    H\n",
       "i    I\n",
       "j    J\n",
       "k    K\n",
       "l    L\n",
       "m    M\n",
       "n    N\n",
       "o    O\n",
       "p    P\n",
       "q    Q\n",
       "r    R\n",
       "s    S\n",
       "t    T\n",
       "u    U\n",
       "v    V\n",
       "w    W\n",
       "x    X\n",
       "y    Y\n",
       "z    Z\n",
       "dtype: object"
      ]
     },
     "execution_count": 99,
     "metadata": {},
     "output_type": "execute_result"
    }
   ],
   "source": [
    "upper_alpha_series"
   ]
  },
  {
   "cell_type": "code",
   "execution_count": 66,
   "id": "f0a5755c",
   "metadata": {},
   "outputs": [],
   "source": [
    "labeled_alphabets=pd.Series(data=list(upper_alpha),index=map(lambda x:\"label_\"+x,alphabets))"
   ]
  },
  {
   "cell_type": "code",
   "execution_count": 67,
   "id": "3b6c57a0",
   "metadata": {},
   "outputs": [
    {
     "data": {
      "text/plain": [
       "label_a    A\n",
       "label_b    B\n",
       "label_c    C\n",
       "label_d    D\n",
       "label_e    E\n",
       "label_f    F\n",
       "label_g    G\n",
       "label_h    H\n",
       "label_i    I\n",
       "label_j    J\n",
       "label_k    K\n",
       "label_l    L\n",
       "label_m    M\n",
       "label_n    N\n",
       "label_o    O\n",
       "label_p    P\n",
       "label_q    Q\n",
       "label_r    R\n",
       "label_s    S\n",
       "label_t    T\n",
       "label_u    U\n",
       "label_v    V\n",
       "label_w    W\n",
       "label_x    X\n",
       "label_y    Y\n",
       "label_z    Z\n",
       "dtype: object"
      ]
     },
     "execution_count": 67,
     "metadata": {},
     "output_type": "execute_result"
    }
   ],
   "source": [
    "labeled_alphabets"
   ]
  },
  {
   "cell_type": "code",
   "execution_count": 68,
   "id": "4a78e165",
   "metadata": {},
   "outputs": [
    {
     "data": {
      "text/plain": [
       "'A'"
      ]
     },
     "execution_count": 68,
     "metadata": {},
     "output_type": "execute_result"
    }
   ],
   "source": [
    "labeled_alphabets['label_a']"
   ]
  },
  {
   "cell_type": "code",
   "execution_count": 69,
   "id": "13191605",
   "metadata": {},
   "outputs": [
    {
     "data": {
      "text/plain": [
       "'K'"
      ]
     },
     "execution_count": 69,
     "metadata": {},
     "output_type": "execute_result"
    }
   ],
   "source": [
    "labeled_alphabets[10]"
   ]
  },
  {
   "cell_type": "code",
   "execution_count": 70,
   "id": "e8af9e5d",
   "metadata": {},
   "outputs": [
    {
     "data": {
      "text/plain": [
       "label_a    A\n",
       "label_b    B\n",
       "label_c    C\n",
       "label_d    D\n",
       "label_e    E\n",
       "label_f    F\n",
       "dtype: object"
      ]
     },
     "execution_count": 70,
     "metadata": {},
     "output_type": "execute_result"
    }
   ],
   "source": [
    "labeled_alphabets[:'label_f']"
   ]
  },
  {
   "cell_type": "markdown",
   "id": "424fb1b9",
   "metadata": {},
   "source": [
    "#### key difference between list and series\n",
    "In the list the last index inside [start:end], the end index is excluded but in the series the last index is also included."
   ]
  },
  {
   "cell_type": "code",
   "execution_count": 71,
   "id": "6e4f1c14",
   "metadata": {},
   "outputs": [
    {
     "data": {
      "text/plain": [
       "label_d    D\n",
       "label_e    E\n",
       "label_f    F\n",
       "dtype: object"
      ]
     },
     "execution_count": 71,
     "metadata": {},
     "output_type": "execute_result"
    }
   ],
   "source": [
    "labeled_alphabets['label_d':'label_f']"
   ]
  },
  {
   "cell_type": "code",
   "execution_count": 72,
   "id": "875f5ef8",
   "metadata": {},
   "outputs": [
    {
     "data": {
      "text/plain": [
       "label_u    U\n",
       "label_v    V\n",
       "label_w    W\n",
       "label_x    X\n",
       "label_y    Y\n",
       "label_z    Z\n",
       "dtype: object"
      ]
     },
     "execution_count": 72,
     "metadata": {},
     "output_type": "execute_result"
    }
   ],
   "source": [
    "labeled_alphabets.tail(6) # or labeled_alphabets[-6:] "
   ]
  },
  {
   "cell_type": "markdown",
   "id": "dde46824",
   "metadata": {},
   "source": [
    "#### add_prifix() and add_suffix() methods"
   ]
  },
  {
   "cell_type": "code",
   "execution_count": 73,
   "id": "e2255d4c",
   "metadata": {},
   "outputs": [
    {
     "data": {
      "text/plain": [
       "0     a\n",
       "1     b\n",
       "2     c\n",
       "3     d\n",
       "4     e\n",
       "5     f\n",
       "6     g\n",
       "7     h\n",
       "8     i\n",
       "9     j\n",
       "10    k\n",
       "11    l\n",
       "12    m\n",
       "13    n\n",
       "14    o\n",
       "15    p\n",
       "16    q\n",
       "17    r\n",
       "18    s\n",
       "19    t\n",
       "20    u\n",
       "21    v\n",
       "22    w\n",
       "23    x\n",
       "24    y\n",
       "25    z\n",
       "dtype: object"
      ]
     },
     "execution_count": 73,
     "metadata": {},
     "output_type": "execute_result"
    }
   ],
   "source": [
    "alphabets"
   ]
  },
  {
   "cell_type": "code",
   "execution_count": 74,
   "id": "50eef492",
   "metadata": {},
   "outputs": [
    {
     "data": {
      "text/plain": [
       "label_0     a\n",
       "label_1     b\n",
       "label_2     c\n",
       "label_3     d\n",
       "label_4     e\n",
       "label_5     f\n",
       "label_6     g\n",
       "label_7     h\n",
       "label_8     i\n",
       "label_9     j\n",
       "label_10    k\n",
       "label_11    l\n",
       "label_12    m\n",
       "label_13    n\n",
       "label_14    o\n",
       "label_15    p\n",
       "label_16    q\n",
       "label_17    r\n",
       "label_18    s\n",
       "label_19    t\n",
       "label_20    u\n",
       "label_21    v\n",
       "label_22    w\n",
       "label_23    x\n",
       "label_24    y\n",
       "label_25    z\n",
       "dtype: object"
      ]
     },
     "execution_count": 74,
     "metadata": {},
     "output_type": "execute_result"
    }
   ],
   "source": [
    "\"\"\"\n",
    "Insteas of using map and lambdata function to assign custom label to each of the elements in \n",
    "series we can use use add_prefix(\"any_string\") and add_suffix(\"any_string\") methods for same result\n",
    "\"\"\"\n",
    "alphabets.add_prefix('label_')"
   ]
  },
  {
   "cell_type": "code",
   "execution_count": 75,
   "id": "be1a27d6",
   "metadata": {},
   "outputs": [
    {
     "data": {
      "text/plain": [
       "0_label     a\n",
       "1_label     b\n",
       "2_label     c\n",
       "3_label     d\n",
       "4_label     e\n",
       "5_label     f\n",
       "6_label     g\n",
       "7_label     h\n",
       "8_label     i\n",
       "9_label     j\n",
       "10_label    k\n",
       "11_label    l\n",
       "12_label    m\n",
       "13_label    n\n",
       "14_label    o\n",
       "15_label    p\n",
       "16_label    q\n",
       "17_label    r\n",
       "18_label    s\n",
       "19_label    t\n",
       "20_label    u\n",
       "21_label    v\n",
       "22_label    w\n",
       "23_label    x\n",
       "24_label    y\n",
       "25_label    z\n",
       "dtype: object"
      ]
     },
     "execution_count": 75,
     "metadata": {},
     "output_type": "execute_result"
    }
   ],
   "source": [
    "alphabets.add_suffix('_label')"
   ]
  },
  {
   "cell_type": "code",
   "execution_count": 76,
   "id": "0f2a4ff9",
   "metadata": {},
   "outputs": [
    {
     "data": {
      "text/plain": [
       "'a'"
      ]
     },
     "execution_count": 76,
     "metadata": {},
     "output_type": "execute_result"
    }
   ],
   "source": [
    "alphabets.add_suffix('_label')[\"0_label\"]"
   ]
  },
  {
   "cell_type": "markdown",
   "id": "9575b161",
   "metadata": {},
   "source": [
    "### Using dot notation to access the elements\n",
    "#### limitation\n",
    "* not flexible as [start:end]\n",
    "* Sliceing cannot be done"
   ]
  },
  {
   "cell_type": "code",
   "execution_count": 77,
   "id": "902b730b",
   "metadata": {},
   "outputs": [
    {
     "data": {
      "text/plain": [
       "26"
      ]
     },
     "execution_count": 77,
     "metadata": {},
     "output_type": "execute_result"
    }
   ],
   "source": [
    "alphabets.size"
   ]
  },
  {
   "cell_type": "code",
   "execution_count": 78,
   "id": "5968ccc9",
   "metadata": {},
   "outputs": [
    {
     "data": {
      "text/plain": [
       "'A'"
      ]
     },
     "execution_count": 78,
     "metadata": {},
     "output_type": "execute_result"
    }
   ],
   "source": [
    "labeled_alphabets.label_a"
   ]
  },
  {
   "cell_type": "code",
   "execution_count": 79,
   "id": "d6bca012",
   "metadata": {},
   "outputs": [],
   "source": [
    "labeled_alphabets.name"
   ]
  },
  {
   "cell_type": "code",
   "execution_count": 80,
   "id": "880f2bad",
   "metadata": {},
   "outputs": [],
   "source": [
    "labeled_alphabets.name=\"label_series\""
   ]
  },
  {
   "cell_type": "code",
   "execution_count": 81,
   "id": "74cb16c1",
   "metadata": {},
   "outputs": [
    {
     "data": {
      "text/plain": [
       "'label_series'"
      ]
     },
     "execution_count": 81,
     "metadata": {},
     "output_type": "execute_result"
    }
   ],
   "source": [
    "labeled_alphabets.name"
   ]
  },
  {
   "cell_type": "markdown",
   "id": "e3c0f12d",
   "metadata": {},
   "source": [
    "### Boolean Masks and The .loc Indexer"
   ]
  },
  {
   "cell_type": "code",
   "execution_count": 96,
   "id": "9b777f0c",
   "metadata": {},
   "outputs": [
    {
     "data": {
      "text/plain": [
       "label_a    A\n",
       "label_b    B\n",
       "label_c    C\n",
       "label_d    D\n",
       "Name: label_series, dtype: object"
      ]
     },
     "execution_count": 96,
     "metadata": {},
     "output_type": "execute_result"
    }
   ],
   "source": [
    "labeled_alphabets"
   ]
  },
  {
   "cell_type": "code",
   "execution_count": 88,
   "id": "036c8daa",
   "metadata": {},
   "outputs": [
    {
     "data": {
      "text/plain": [
       "'A'"
      ]
     },
     "execution_count": 88,
     "metadata": {},
     "output_type": "execute_result"
    }
   ],
   "source": [
    "labeled_alphabets.loc['label_a']"
   ]
  },
  {
   "cell_type": "code",
   "execution_count": 89,
   "id": "f7a2e220",
   "metadata": {},
   "outputs": [
    {
     "data": {
      "text/plain": [
       "label_a    A\n",
       "label_b    B\n",
       "label_c    C\n",
       "label_d    D\n",
       "Name: label_series, dtype: object"
      ]
     },
     "execution_count": 89,
     "metadata": {},
     "output_type": "execute_result"
    }
   ],
   "source": [
    "labeled_alphabets.loc['label_a':'label_d']"
   ]
  },
  {
   "cell_type": "code",
   "execution_count": null,
   "id": "c92cdea2",
   "metadata": {},
   "outputs": [],
   "source": [
    "\"\"\"\n",
    "boolean:\n",
    "we can use boolean True and false to denote if we want to extract \n",
    "the element from the series or not.\n",
    "\"\"\""
   ]
  },
  {
   "cell_type": "code",
   "execution_count": 95,
   "id": "5ee4b767",
   "metadata": {},
   "outputs": [
    {
     "data": {
      "text/plain": [
       "label_a    A\n",
       "label_b    B\n",
       "label_d    D\n",
       "Name: label_series, dtype: object"
      ]
     },
     "execution_count": 95,
     "metadata": {},
     "output_type": "execute_result"
    }
   ],
   "source": [
    "#labeled_alphabets=labeled_alphabets['label_a':'label_d']\n",
    "#labeled_alphabets.loc[[True,True,False,True]]"
   ]
  },
  {
   "cell_type": "code",
   "execution_count": 102,
   "id": "aa3fbc78",
   "metadata": {},
   "outputs": [
    {
     "data": {
      "text/plain": [
       "a    A\n",
       "b    B\n",
       "c    C\n",
       "d    D\n",
       "e    E\n",
       "f    F\n",
       "g    G\n",
       "h    H\n",
       "i    I\n",
       "j    J\n",
       "k    K\n",
       "l    L\n",
       "m    M\n",
       "n    N\n",
       "o    O\n",
       "p    P\n",
       "q    Q\n",
       "r    R\n",
       "s    S\n",
       "t    T\n",
       "u    U\n",
       "v    V\n",
       "w    W\n",
       "x    X\n",
       "y    Y\n",
       "z    Z\n",
       "dtype: object"
      ]
     },
     "execution_count": 102,
     "metadata": {},
     "output_type": "execute_result"
    }
   ],
   "source": [
    "upper_alpha_series"
   ]
  },
  {
   "cell_type": "code",
   "execution_count": 103,
   "id": "9a214e9e",
   "metadata": {},
   "outputs": [
    {
     "data": {
      "text/plain": [
       "26"
      ]
     },
     "execution_count": 103,
     "metadata": {},
     "output_type": "execute_result"
    }
   ],
   "source": [
    "upper_alpha_series.size"
   ]
  },
  {
   "cell_type": "code",
   "execution_count": 104,
   "id": "78b5a968",
   "metadata": {},
   "outputs": [
    {
     "data": {
      "text/plain": [
       "a    A\n",
       "c    C\n",
       "e    E\n",
       "g    G\n",
       "i    I\n",
       "k    K\n",
       "m    M\n",
       "o    O\n",
       "q    Q\n",
       "s    S\n",
       "u    U\n",
       "w    W\n",
       "y    Y\n",
       "dtype: object"
      ]
     },
     "execution_count": 104,
     "metadata": {},
     "output_type": "execute_result"
    }
   ],
   "source": [
    "upper_alpha_series.loc[[True if i%2==0 else False for i in range(26)]]"
   ]
  },
  {
   "cell_type": "code",
   "execution_count": 106,
   "id": "c2fcb453",
   "metadata": {},
   "outputs": [],
   "source": [
    "boolean_list=[]\n",
    "for i in range(26):\n",
    "    if i%2==0:\n",
    "        boolean_list.append(True)\n",
    "    else: boolean_list.append(False)"
   ]
  },
  {
   "cell_type": "code",
   "execution_count": 108,
   "id": "fec50cf1",
   "metadata": {},
   "outputs": [
    {
     "data": {
      "text/plain": [
       "[True,\n",
       " False,\n",
       " True,\n",
       " False,\n",
       " True,\n",
       " False,\n",
       " True,\n",
       " False,\n",
       " True,\n",
       " False,\n",
       " True,\n",
       " False,\n",
       " True,\n",
       " False,\n",
       " True,\n",
       " False,\n",
       " True,\n",
       " False,\n",
       " True,\n",
       " False,\n",
       " True,\n",
       " False,\n",
       " True,\n",
       " False,\n",
       " True,\n",
       " False]"
      ]
     },
     "execution_count": 108,
     "metadata": {},
     "output_type": "execute_result"
    }
   ],
   "source": [
    "boolean_list"
   ]
  },
  {
   "cell_type": "code",
   "execution_count": 109,
   "id": "17aa7c7d",
   "metadata": {},
   "outputs": [
    {
     "data": {
      "text/plain": [
       "a    A\n",
       "c    C\n",
       "e    E\n",
       "g    G\n",
       "i    I\n",
       "k    K\n",
       "m    M\n",
       "o    O\n",
       "q    Q\n",
       "s    S\n",
       "u    U\n",
       "w    W\n",
       "y    Y\n",
       "dtype: object"
      ]
     },
     "execution_count": 109,
     "metadata": {},
     "output_type": "execute_result"
    }
   ],
   "source": [
    "upper_alpha_series.loc[boolean_list]"
   ]
  },
  {
   "cell_type": "markdown",
   "id": "add2661f",
   "metadata": {},
   "source": [
    "#### Extraction by position\n",
    "* iloc used to locate element by integer index => indexinf by position\n",
    "* loc is used to locate elements by label"
   ]
  },
  {
   "cell_type": "code",
   "execution_count": 110,
   "id": "834ba69d",
   "metadata": {},
   "outputs": [
    {
     "data": {
      "text/plain": [
       "'D'"
      ]
     },
     "execution_count": 110,
     "metadata": {},
     "output_type": "execute_result"
    }
   ],
   "source": [
    "upper_alpha_series.iloc[3]"
   ]
  },
  {
   "cell_type": "code",
   "execution_count": 111,
   "id": "35030418",
   "metadata": {},
   "outputs": [
    {
     "data": {
      "text/plain": [
       "d    D\n",
       "e    E\n",
       "f    F\n",
       "dtype: object"
      ]
     },
     "execution_count": 111,
     "metadata": {},
     "output_type": "execute_result"
    }
   ],
   "source": [
    "upper_alpha_series.iloc[3:6]"
   ]
  },
  {
   "cell_type": "code",
   "execution_count": 113,
   "id": "2fd465ba",
   "metadata": {},
   "outputs": [
    {
     "data": {
      "text/plain": [
       "c    C\n",
       "f    F\n",
       "h    H\n",
       "dtype: object"
      ]
     },
     "execution_count": 113,
     "metadata": {},
     "output_type": "execute_result"
    }
   ],
   "source": [
    "#specefy only those elements which you want to extract\n",
    "upper_alpha_series.iloc[[2,5,7]]"
   ]
  },
  {
   "cell_type": "markdown",
   "id": "ddf862c0",
   "metadata": {},
   "source": [
    " #### Callables with .loc and .iloc\n",
    " * What is callable?\n",
    " Callable is an object that accepts some arguments and possibly return some value\n",
    " * used for highly customizable indexing\n",
    " * work with [],.loc,.iloc\n",
    " * a single argument fucntion that returns indexing output"
   ]
  },
  {
   "cell_type": "code",
   "execution_count": 114,
   "id": "054a2e20",
   "metadata": {},
   "outputs": [],
   "source": [
    " def every_fifth(x):\n",
    "        return [True if i%5==0 else False for i in range(x.size)]"
   ]
  },
  {
   "cell_type": "code",
   "execution_count": 115,
   "id": "6dd671b2",
   "metadata": {},
   "outputs": [
    {
     "data": {
      "text/plain": [
       "a    A\n",
       "f    F\n",
       "k    K\n",
       "p    P\n",
       "u    U\n",
       "z    Z\n",
       "dtype: object"
      ]
     },
     "execution_count": 115,
     "metadata": {},
     "output_type": "execute_result"
    }
   ],
   "source": [
    "upper_alpha_series.iloc[every_fifth]"
   ]
  },
  {
   "cell_type": "markdown",
   "id": "63fdebb0",
   "metadata": {},
   "source": [
    "### Selecting values with get() funcations\n",
    "Why to use get method?\n",
    "One advantage of the get functionn is that even if we try to get the value for the label which dont exists, we can pass default value so that insted of sending error we can sent default value"
   ]
  },
  {
   "cell_type": "code",
   "execution_count": 130,
   "id": "9710564c",
   "metadata": {},
   "outputs": [
    {
     "data": {
      "text/plain": [
       "'A'"
      ]
     },
     "execution_count": 130,
     "metadata": {},
     "output_type": "execute_result"
    }
   ],
   "source": [
    "upper_alpha_series.get('a',default=\"sorry we dont have any value\")"
   ]
  },
  {
   "cell_type": "code",
   "execution_count": 129,
   "id": "df424a98",
   "metadata": {},
   "outputs": [
    {
     "data": {
      "text/plain": [
       "'sorry we dont have any value'"
      ]
     },
     "execution_count": 129,
     "metadata": {},
     "output_type": "execute_result"
    }
   ],
   "source": [
    "upper_alpha_series.get('ls',default=\"sorry we dont have any value\")"
   ]
  },
  {
   "cell_type": "code",
   "execution_count": 135,
   "id": "888c8c81",
   "metadata": {},
   "outputs": [
    {
     "data": {
      "text/plain": [
       "{'name': 'bond'}"
      ]
     },
     "execution_count": 135,
     "metadata": {},
     "output_type": "execute_result"
    }
   ],
   "source": [
    "upper_alpha_series.get('ls',default={\"name\": \"bond\"})"
   ]
  },
  {
   "cell_type": "code",
   "execution_count": null,
   "id": "a8ad822a",
   "metadata": {},
   "outputs": [],
   "source": []
  }
 ],
 "metadata": {
  "kernelspec": {
   "display_name": "Python 3 (ipykernel)",
   "language": "python",
   "name": "python3"
  },
  "language_info": {
   "codemirror_mode": {
    "name": "ipython",
    "version": 3
   },
   "file_extension": ".py",
   "mimetype": "text/x-python",
   "name": "python",
   "nbconvert_exporter": "python",
   "pygments_lexer": "ipython3",
   "version": "3.8.10"
  }
 },
 "nbformat": 4,
 "nbformat_minor": 5
}
